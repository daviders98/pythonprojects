{
  "nbformat": 4,
  "nbformat_minor": 0,
  "metadata": {
    "colab": {
      "name": "Parcial_Sistemas.ipynb",
      "provenance": [],
      "collapsed_sections": [],
      "include_colab_link": true
    },
    "kernelspec": {
      "name": "python3",
      "display_name": "Python 3"
    }
  },
  "cells": [
    {
      "cell_type": "markdown",
      "metadata": {
        "id": "view-in-github",
        "colab_type": "text"
      },
      "source": [
        "<a href=\"https://colab.research.google.com/github/daviders98/pythonprojects/blob/master/Parcial%20Data%20science%20.ipynb\" target=\"_parent\"><img src=\"https://colab.research.google.com/assets/colab-badge.svg\" alt=\"Open In Colab\"/></a>"
      ]
    },
    {
      "cell_type": "code",
      "metadata": {
        "id": "YoMxEJgC6h29",
        "colab": {
          "base_uri": "https://localhost:8080/"
        },
        "outputId": "74650fb7-5d0a-46fb-e77e-6015b704b6bd"
      },
      "source": [
        "from google.colab import drive\n",
        "drive.mount('/content/drive')"
      ],
      "execution_count": null,
      "outputs": [
        {
          "output_type": "stream",
          "text": [
            "Drive already mounted at /content/drive; to attempt to forcibly remount, call drive.mount(\"/content/drive\", force_remount=True).\n"
          ],
          "name": "stdout"
        }
      ]
    },
    {
      "cell_type": "code",
      "metadata": {
        "id": "dXRGBul3zoR_",
        "colab": {
          "base_uri": "https://localhost:8080/"
        },
        "outputId": "84028252-d7c3-410f-b0e6-b2152d95a8e3"
      },
      "source": [
        "# PREGUNTA 1\n",
        "import pandas as pd\n",
        "location= (\"/content/drive/My Drive/Colab Notebooks/datasets/axisdata.csv\")\n",
        "df=pd.read_csv(location)\n",
        "\n",
        "df[\"Cars Sold\"].mean()\n"
      ],
      "execution_count": null,
      "outputs": [
        {
          "output_type": "execute_result",
          "data": {
            "text/plain": [
              "3.9229229229229228"
            ]
          },
          "metadata": {
            "tags": []
          },
          "execution_count": 41
        }
      ]
    },
    {
      "cell_type": "code",
      "metadata": {
        "id": "3bw6Dkmf6jbp",
        "colab": {
          "base_uri": "https://localhost:8080/"
        },
        "outputId": "a3407bd9-4e11-4f2e-dd97-fdaf91d87f67"
      },
      "source": [
        "# PREGUNTA 2\n",
        "import pandas as pd\n",
        "location= (\"/content/drive/My Drive/Colab Notebooks/datasets/axisdata.csv\")\n",
        "df=pd.read_csv(location)\n",
        "\n",
        "df[\"Cars Sold\"].max()"
      ],
      "execution_count": null,
      "outputs": [
        {
          "output_type": "execute_result",
          "data": {
            "text/plain": [
              "7"
            ]
          },
          "metadata": {
            "tags": []
          },
          "execution_count": 42
        }
      ]
    },
    {
      "cell_type": "code",
      "metadata": {
        "id": "bNx2Nfae9Dyn",
        "colab": {
          "base_uri": "https://localhost:8080/"
        },
        "outputId": "ceeee102-db52-4ebc-e4a2-b9f084b96786"
      },
      "source": [
        "# PREGUNTA 3\n",
        "import pandas as pd\n",
        "location= (\"/content/drive/My Drive/Colab Notebooks/datasets/axisdata.csv\")\n",
        "df=pd.read_csv(location)\n",
        "\n",
        "df[\"Cars Sold\"].min()"
      ],
      "execution_count": null,
      "outputs": [
        {
          "output_type": "execute_result",
          "data": {
            "text/plain": [
              "1"
            ]
          },
          "metadata": {
            "tags": []
          },
          "execution_count": 43
        }
      ]
    },
    {
      "cell_type": "code",
      "metadata": {
        "id": "O3mtqXiS9G4-",
        "colab": {
          "base_uri": "https://localhost:8080/",
          "height": 136
        },
        "outputId": "43902fdc-040f-4416-c0fc-f805178e3bfc"
      },
      "source": [
        "# PREGUNTA 4\n",
        "import pandas as pd\n",
        "location= (\"/content/drive/My Drive/Colab Notebooks/datasets/axisdata.csv\")\n",
        "df=pd.read_csv(location)\n",
        "pd.pivot_table(df, index=['Gender'], aggfunc='mean', values=['Cars Sold'])\n"
      ],
      "execution_count": null,
      "outputs": [
        {
          "output_type": "execute_result",
          "data": {
            "text/html": [
              "<div>\n",
              "<style scoped>\n",
              "    .dataframe tbody tr th:only-of-type {\n",
              "        vertical-align: middle;\n",
              "    }\n",
              "\n",
              "    .dataframe tbody tr th {\n",
              "        vertical-align: top;\n",
              "    }\n",
              "\n",
              "    .dataframe thead th {\n",
              "        text-align: right;\n",
              "    }\n",
              "</style>\n",
              "<table border=\"1\" class=\"dataframe\">\n",
              "  <thead>\n",
              "    <tr style=\"text-align: right;\">\n",
              "      <th></th>\n",
              "      <th>Cars Sold</th>\n",
              "    </tr>\n",
              "    <tr>\n",
              "      <th>Gender</th>\n",
              "      <th></th>\n",
              "    </tr>\n",
              "  </thead>\n",
              "  <tbody>\n",
              "    <tr>\n",
              "      <th>F</th>\n",
              "      <td>3.760736</td>\n",
              "    </tr>\n",
              "    <tr>\n",
              "      <th>M</th>\n",
              "      <td>4.078431</td>\n",
              "    </tr>\n",
              "  </tbody>\n",
              "</table>\n",
              "</div>"
            ],
            "text/plain": [
              "        Cars Sold\n",
              "Gender           \n",
              "F        3.760736\n",
              "M        4.078431"
            ]
          },
          "metadata": {
            "tags": []
          },
          "execution_count": 44
        }
      ]
    },
    {
      "cell_type": "code",
      "metadata": {
        "id": "X5rfMCUz9UYI",
        "colab": {
          "base_uri": "https://localhost:8080/"
        },
        "outputId": "efd2df0e-893a-4ae7-9887-77193990e577"
      },
      "source": [
        "# PREGUNTA 5\n",
        "import pandas as pd\n",
        "location= (\"/content/drive/My Drive/Colab Notebooks/datasets/axisdata.csv\")\n",
        "df=pd.read_csv(location)\n",
        "\n",
        "df2 = df.loc[df['Cars Sold'] > 3]\n",
        "df2[\"Hours Worked\"].mean()"
      ],
      "execution_count": null,
      "outputs": [
        {
          "output_type": "execute_result",
          "data": {
            "text/plain": [
              "34.740237691001695"
            ]
          },
          "metadata": {
            "tags": []
          },
          "execution_count": 45
        }
      ]
    },
    {
      "cell_type": "code",
      "metadata": {
        "id": "H5rvvmDf-U5R",
        "colab": {
          "base_uri": "https://localhost:8080/"
        },
        "outputId": "0e592ffd-84f1-4f80-824f-10c23d08eead"
      },
      "source": [
        "# PREGUNTA 6\n",
        "import pandas as pd\n",
        "location= (\"/content/drive/My Drive/Colab Notebooks/datasets/axisdata.csv\")\n",
        "df=pd.read_csv(location)\n",
        "df[\"Years Experience\"].mean()"
      ],
      "execution_count": null,
      "outputs": [
        {
          "output_type": "execute_result",
          "data": {
            "text/plain": [
              "3.026026026026026"
            ]
          },
          "metadata": {
            "tags": []
          },
          "execution_count": 46
        }
      ]
    },
    {
      "cell_type": "code",
      "metadata": {
        "id": "1bLGh1ZY-j_T",
        "colab": {
          "base_uri": "https://localhost:8080/"
        },
        "outputId": "d32f66b7-5e1f-4f90-9cf8-a83a042d2cf8"
      },
      "source": [
        "# PREGUNTA 7\n",
        "import pandas as pd\n",
        "location= (\"/content/drive/My Drive/Colab Notebooks/datasets/axisdata.csv\")\n",
        "df=pd.read_csv(location)\n",
        "df2 = df.loc[df['Cars Sold'] > 3]\n",
        "df2[\"Years Experience\"].mean()\n"
      ],
      "execution_count": null,
      "outputs": [
        {
          "output_type": "execute_result",
          "data": {
            "text/plain": [
              "3.0492359932088284"
            ]
          },
          "metadata": {
            "tags": []
          },
          "execution_count": 47
        }
      ]
    },
    {
      "cell_type": "code",
      "metadata": {
        "id": "qEJUTrZs-0CS",
        "colab": {
          "base_uri": "https://localhost:8080/",
          "height": 166
        },
        "outputId": "55d0ed2a-1dc0-4f97-abd0-cb2fbeef51a6"
      },
      "source": [
        "# PREGUNTA 8\n",
        "location= (\"/content/drive/My Drive/Colab Notebooks/datasets/axisdata.csv\")\n",
        "df=pd.read_csv(location)\n",
        "\n",
        "pd.pivot_table(df, index=['SalesTraining'], aggfunc='mean', values=['Cars Sold'], margins='True')"
      ],
      "execution_count": null,
      "outputs": [
        {
          "output_type": "execute_result",
          "data": {
            "text/html": [
              "<div>\n",
              "<style scoped>\n",
              "    .dataframe tbody tr th:only-of-type {\n",
              "        vertical-align: middle;\n",
              "    }\n",
              "\n",
              "    .dataframe tbody tr th {\n",
              "        vertical-align: top;\n",
              "    }\n",
              "\n",
              "    .dataframe thead th {\n",
              "        text-align: right;\n",
              "    }\n",
              "</style>\n",
              "<table border=\"1\" class=\"dataframe\">\n",
              "  <thead>\n",
              "    <tr style=\"text-align: right;\">\n",
              "      <th></th>\n",
              "      <th>Cars Sold</th>\n",
              "    </tr>\n",
              "    <tr>\n",
              "      <th>SalesTraining</th>\n",
              "      <th></th>\n",
              "    </tr>\n",
              "  </thead>\n",
              "  <tbody>\n",
              "    <tr>\n",
              "      <th>N</th>\n",
              "      <td>3.573850</td>\n",
              "    </tr>\n",
              "    <tr>\n",
              "      <th>Y</th>\n",
              "      <td>4.168942</td>\n",
              "    </tr>\n",
              "    <tr>\n",
              "      <th>All</th>\n",
              "      <td>3.922923</td>\n",
              "    </tr>\n",
              "  </tbody>\n",
              "</table>\n",
              "</div>"
            ],
            "text/plain": [
              "               Cars Sold\n",
              "SalesTraining           \n",
              "N               3.573850\n",
              "Y               4.168942\n",
              "All             3.922923"
            ]
          },
          "metadata": {
            "tags": []
          },
          "execution_count": 48
        }
      ]
    },
    {
      "cell_type": "markdown",
      "metadata": {
        "id": "i6E5AWqbAll9"
      },
      "source": [
        "**Resumen de Indicadores:**\n",
        "1. Se venden 3.92 carros en promedio por mes\n",
        "2. Lo máximo de carros que ha vendido un trabajador al mes son 7 \n",
        "3. Lo mínimo de carros que ha vendido un trabajador al mes es 1\n",
        "4. Las mujeres venden en promedio 3.7 carros en promedio y los hombres 4.07.\n",
        "5. Los empleados que venden más de 3 carros al mes, trabajan en promedio 34.7 horas.\n",
        "6. En promedio los empleados tienen 3.02 años de experiencia\n",
        "7. En promedio los empleados que venden más de 3 carros al mes, tienen 3.04 años de experiencia\n",
        "8. Los empleados con capacitación venden 4 carros en promedio al mes, mientras que los que no tienen capacitación, venden 3 carros en promedio al mes. \n",
        "\n",
        "\n",
        "\n",
        "\n",
        "\n"
      ]
    },
    {
      "cell_type": "code",
      "metadata": {
        "id": "ZJU3SDrx-G7r",
        "colab": {
          "base_uri": "https://localhost:8080/",
          "height": 559
        },
        "outputId": "0980fc2b-8a5d-4013-988e-dc2efad54db4"
      },
      "source": [
        "# PREGUNTA 9\n",
        "import pandas as pd\n",
        "import statsmodels.formula.api as sm\n",
        "\n",
        "location= (\"/content/drive/My Drive/Colab Notebooks/datasets/axisdata.csv\")\n",
        "df=pd.read_csv(location)\n",
        "\n",
        "df2=df\n",
        "co=[\"name\",\"last\",\"gender\",\"hours\",\"train\",\"exp\",\"sold\"]\n",
        "df2.columns=co \n",
        "gendern = pd.get_dummies(df2['gender'])\n",
        "df2 =df2.join(gendern)\n",
        "trainn = pd.get_dummies(df2['train'])\n",
        "df2 =df2.join(trainn)\n",
        "result =sm.ols(formula=\"sold ~ F + M + N + Y + hours + exp\",data=df2).fit()\n",
        "result.summary()\n"
      ],
      "execution_count": null,
      "outputs": [
        {
          "output_type": "execute_result",
          "data": {
            "text/html": [
              "<table class=\"simpletable\">\n",
              "<caption>OLS Regression Results</caption>\n",
              "<tr>\n",
              "  <th>Dep. Variable:</th>          <td>sold</td>       <th>  R-squared:         </th> <td>   0.110</td>\n",
              "</tr>\n",
              "<tr>\n",
              "  <th>Model:</th>                   <td>OLS</td>       <th>  Adj. R-squared:    </th> <td>   0.107</td>\n",
              "</tr>\n",
              "<tr>\n",
              "  <th>Method:</th>             <td>Least Squares</td>  <th>  F-statistic:       </th> <td>   30.80</td>\n",
              "</tr>\n",
              "<tr>\n",
              "  <th>Date:</th>             <td>Thu, 29 Oct 2020</td> <th>  Prob (F-statistic):</th> <td>3.37e-24</td>\n",
              "</tr>\n",
              "<tr>\n",
              "  <th>Time:</th>                 <td>02:31:28</td>     <th>  Log-Likelihood:    </th> <td> -1781.5</td>\n",
              "</tr>\n",
              "<tr>\n",
              "  <th>No. Observations:</th>      <td>   999</td>      <th>  AIC:               </th> <td>   3573.</td>\n",
              "</tr>\n",
              "<tr>\n",
              "  <th>Df Residuals:</th>          <td>   994</td>      <th>  BIC:               </th> <td>   3598.</td>\n",
              "</tr>\n",
              "<tr>\n",
              "  <th>Df Model:</th>              <td>     4</td>      <th>                     </th>     <td> </td>   \n",
              "</tr>\n",
              "<tr>\n",
              "  <th>Covariance Type:</th>      <td>nonrobust</td>    <th>                     </th>     <td> </td>   \n",
              "</tr>\n",
              "</table>\n",
              "<table class=\"simpletable\">\n",
              "<tr>\n",
              "      <td></td>         <th>coef</th>     <th>std err</th>      <th>t</th>      <th>P>|t|</th>  <th>[0.025</th>    <th>0.975]</th>  \n",
              "</tr>\n",
              "<tr>\n",
              "  <th>Intercept</th> <td>    1.0705</td> <td>    0.107</td> <td>    9.980</td> <td> 0.000</td> <td>    0.860</td> <td>    1.281</td>\n",
              "</tr>\n",
              "<tr>\n",
              "  <th>F</th>         <td>    0.3876</td> <td>    0.071</td> <td>    5.481</td> <td> 0.000</td> <td>    0.249</td> <td>    0.526</td>\n",
              "</tr>\n",
              "<tr>\n",
              "  <th>M</th>         <td>    0.6829</td> <td>    0.070</td> <td>    9.724</td> <td> 0.000</td> <td>    0.545</td> <td>    0.821</td>\n",
              "</tr>\n",
              "<tr>\n",
              "  <th>N</th>         <td>    0.2518</td> <td>    0.072</td> <td>    3.511</td> <td> 0.000</td> <td>    0.111</td> <td>    0.393</td>\n",
              "</tr>\n",
              "<tr>\n",
              "  <th>Y</th>         <td>    0.8187</td> <td>    0.070</td> <td>   11.673</td> <td> 0.000</td> <td>    0.681</td> <td>    0.956</td>\n",
              "</tr>\n",
              "<tr>\n",
              "  <th>hours</th>     <td>    0.0453</td> <td>    0.006</td> <td>    8.156</td> <td> 0.000</td> <td>    0.034</td> <td>    0.056</td>\n",
              "</tr>\n",
              "<tr>\n",
              "  <th>exp</th>       <td>    0.0662</td> <td>    0.033</td> <td>    2.020</td> <td> 0.044</td> <td>    0.002</td> <td>    0.131</td>\n",
              "</tr>\n",
              "</table>\n",
              "<table class=\"simpletable\">\n",
              "<tr>\n",
              "  <th>Omnibus:</th>       <td>951.211</td> <th>  Durbin-Watson:     </th> <td>   2.072</td>\n",
              "</tr>\n",
              "<tr>\n",
              "  <th>Prob(Omnibus):</th> <td> 0.000</td>  <th>  Jarque-Bera (JB):  </th> <td>  63.016</td>\n",
              "</tr>\n",
              "<tr>\n",
              "  <th>Skew:</th>          <td>-0.007</td>  <th>  Prob(JB):          </th> <td>2.07e-14</td>\n",
              "</tr>\n",
              "<tr>\n",
              "  <th>Kurtosis:</th>      <td> 1.770</td>  <th>  Cond. No.          </th> <td>3.05e+16</td>\n",
              "</tr>\n",
              "</table><br/><br/>Warnings:<br/>[1] Standard Errors assume that the covariance matrix of the errors is correctly specified.<br/>[2] The smallest eigenvalue is 1.31e-27. This might indicate that there are<br/>strong multicollinearity problems or that the design matrix is singular."
            ],
            "text/plain": [
              "<class 'statsmodels.iolib.summary.Summary'>\n",
              "\"\"\"\n",
              "                            OLS Regression Results                            \n",
              "==============================================================================\n",
              "Dep. Variable:                   sold   R-squared:                       0.110\n",
              "Model:                            OLS   Adj. R-squared:                  0.107\n",
              "Method:                 Least Squares   F-statistic:                     30.80\n",
              "Date:                Thu, 29 Oct 2020   Prob (F-statistic):           3.37e-24\n",
              "Time:                        02:31:28   Log-Likelihood:                -1781.5\n",
              "No. Observations:                 999   AIC:                             3573.\n",
              "Df Residuals:                     994   BIC:                             3598.\n",
              "Df Model:                           4                                         \n",
              "Covariance Type:            nonrobust                                         \n",
              "==============================================================================\n",
              "                 coef    std err          t      P>|t|      [0.025      0.975]\n",
              "------------------------------------------------------------------------------\n",
              "Intercept      1.0705      0.107      9.980      0.000       0.860       1.281\n",
              "F              0.3876      0.071      5.481      0.000       0.249       0.526\n",
              "M              0.6829      0.070      9.724      0.000       0.545       0.821\n",
              "N              0.2518      0.072      3.511      0.000       0.111       0.393\n",
              "Y              0.8187      0.070     11.673      0.000       0.681       0.956\n",
              "hours          0.0453      0.006      8.156      0.000       0.034       0.056\n",
              "exp            0.0662      0.033      2.020      0.044       0.002       0.131\n",
              "==============================================================================\n",
              "Omnibus:                      951.211   Durbin-Watson:                   2.072\n",
              "Prob(Omnibus):                  0.000   Jarque-Bera (JB):               63.016\n",
              "Skew:                          -0.007   Prob(JB):                     2.07e-14\n",
              "Kurtosis:                       1.770   Cond. No.                     3.05e+16\n",
              "==============================================================================\n",
              "\n",
              "Warnings:\n",
              "[1] Standard Errors assume that the covariance matrix of the errors is correctly specified.\n",
              "[2] The smallest eigenvalue is 1.31e-27. This might indicate that there are\n",
              "strong multicollinearity problems or that the design matrix is singular.\n",
              "\"\"\""
            ]
          },
          "metadata": {
            "tags": []
          },
          "execution_count": 73
        }
      ]
    },
    {
      "cell_type": "markdown",
      "metadata": {
        "id": "57mD-E5HItjG"
      },
      "source": [
        "**Consideramos que el mejor indicador para detectar un buen vendedor es el que vende mas carros con menos horas trabajadas, es decir, una razón de autos/horas, en donde se buscan valores altos o por encima de una meta establecida por la empresa.** \n",
        "\n",
        "Para mejorar este indicador, de acuerdo al modelo de regresión lineal multiple, se encontró que las ventas crecen a mayor ritmo si se le brinda un entrenamiento previo al vendedor y además si es del sexo masculino. "
      ]
    }
  ]
}