{
  "nbformat": 4,
  "nbformat_minor": 0,
  "metadata": {
    "colab": {
      "name": "1-Carga de datos.ipynb",
      "provenance": [],
      "toc_visible": true,
      "mount_file_id": "1lwoSXyoNzRL9Czgs2RrAxxz3Pr4nAj4_",
      "authorship_tag": "ABX9TyPDCDtvJNbzDsDPY6JYmwCq",
      "include_colab_link": true
    },
    "kernelspec": {
      "name": "python3",
      "display_name": "Python 3"
    }
  },
  "cells": [
    {
      "cell_type": "markdown",
      "metadata": {
        "id": "view-in-github",
        "colab_type": "text"
      },
      "source": [
        "<a href=\"https://colab.research.google.com/github/daviders98/pythonprojects/blob/master/Data%20science%201%20-%20Loading%20datasets.ipynb\" target=\"_parent\"><img src=\"https://colab.research.google.com/assets/colab-badge.svg\" alt=\"Open In Colab\"/></a>"
      ]
    },
    {
      "cell_type": "markdown",
      "metadata": {
        "id": "K8SdW1gRowwY"
      },
      "source": [
        "# 1.- Carga de datos\n",
        "Lo primero que se va a realizar para una tarea de Analítica de Datos es cargar los datos a nuestro Jupyter Notebook"
      ]
    },
    {
      "cell_type": "code",
      "metadata": {
        "id": "PnFawJbnzCve"
      },
      "source": [
        "import pandas as pd\n",
        "Location = \"/content/drive/My Drive/Colab Notebooks/datasets/smallgradesh.csv\"\n",
        "df = pd.read_csv(Location,header=None)\n",
        "df.head()\n"
      ],
      "execution_count": null,
      "outputs": []
    },
    {
      "cell_type": "markdown",
      "metadata": {
        "id": "vNxQFHaY1OJH"
      },
      "source": [
        "Si nuestro dataset no incluye headers, podemos agregarlos posteriormente."
      ]
    },
    {
      "cell_type": "code",
      "metadata": {
        "id": "XhH8Htdy1Yte"
      },
      "source": [
        "import pandas as pd\n",
        "Location = \"/content/drive/My Drive/Colab Notebooks/datasets/smallgradesh.csv\"\n",
        "#Agregando headers al data frame.\n",
        "df = pd.read_csv(Location,names=['Names','Grades'])\n",
        "\n",
        "df.head()\n"
      ],
      "execution_count": null,
      "outputs": []
    },
    {
      "cell_type": "markdown",
      "metadata": {
        "id": "Bgk6B-R25KYM"
      },
      "source": [
        "Cuando el dataframe no tiene headers, se puede poner con df.columns\n"
      ]
    },
    {
      "cell_type": "code",
      "metadata": {
        "id": "sIc58qY03LY0"
      },
      "source": [
        "df.columns = ['Nombre','Calificaciones']\n",
        "df.head()"
      ],
      "execution_count": null,
      "outputs": []
    },
    {
      "cell_type": "markdown",
      "metadata": {
        "id": "Ap9Kjlwz3_qr"
      },
      "source": [
        "**Tarea: Importar datos del censo de los estados unidos para un estado en un data frame, los datos están disponibles en [Censo de EU\n",
        "](https://http://census.ire.org/data/bulkdata.html)**"
      ]
    },
    {
      "cell_type": "code",
      "metadata": {
        "id": "bQ_nCpG84nqy"
      },
      "source": [
        "#Aquí se resuelve la tarea\n",
        "import pandas as pd\n",
        "Location = \"/content/drive/My Drive/Colab Notebooks/datasets/all_040_in_01.P1.csv\"\n",
        "df = pd.read_csv(Location)\n",
        "\n",
        "df\n"
      ],
      "execution_count": null,
      "outputs": []
    },
    {
      "cell_type": "markdown",
      "metadata": {
        "id": "_aWyWejm5xpk"
      },
      "source": [
        "Es posible guardar los datos de un dataframe que esté en memoria a una hoja de cálculo en formato csv."
      ]
    },
    {
      "cell_type": "code",
      "metadata": {
        "id": "psIerhO45--Y"
      },
      "source": [
        "import pandas as pd\n",
        "names = [\"Bob\",\"Jessica\",\"Mary\",\"Jon\",\"Mel\"]\n",
        "grades = [76,95,77,78,99]\n",
        "GradeList = zip(names,grades)\n",
        "\n",
        "df= pd.DataFrame(data=GradeList,columns=[\"Names\",\"Grades\"])\n",
        "\n",
        "df.to_csv(\"/content/drive/My Drive/Colab Notebooks/Output/StudentGrades.csv\",index=False,header=False)\n",
        "df.head()"
      ],
      "execution_count": null,
      "outputs": []
    },
    {
      "cell_type": "markdown",
      "metadata": {
        "id": "X9VkKYrr9XIf"
      },
      "source": [
        "**Tarea: Exportar a un archivo csv el listado 2-8\n",
        "**"
      ]
    },
    {
      "cell_type": "code",
      "metadata": {
        "id": "ruRR7bcx9fyb"
      },
      "source": [
        "#Capturar aquí el listado 2-8 y resolver la exportación a un archivo .csv.\n",
        "import pandas as pd\n",
        "names = ['Bob','Jessica','Mary','John','Mel']\n",
        "grades = [76,95,77,78,99]\n",
        "bsdegrees = [1,1,0,0,1]\n",
        "msdegrees = [2,1,0,0,0]\n",
        "phddegrees = [0,1,0,0,0]\n",
        "Degrees = zip(names,grades,bsdegrees,msdegrees,phddegrees) \n",
        "columns = ['Names','Grades','BS','MS','PhD']\n",
        "df = pd.DataFrame(data = Degrees, columns=columns)\n",
        "df.to_csv(\"/content/drive/My Drive/Colab Notebooks/Output/HW_2-8.csv\",index=False,header=False)\n",
        "df.head()\n"
      ],
      "execution_count": null,
      "outputs": []
    },
    {
      "cell_type": "markdown",
      "metadata": {
        "id": "SrW4kHIdkWZB"
      },
      "source": [
        "#**Cargando datos a partir de excel**"
      ]
    },
    {
      "cell_type": "code",
      "metadata": {
        "id": "aKwn7oCjklFp"
      },
      "source": [
        "import pandas as pd\n",
        "Location = \"/content/drive/My Drive/Colab Notebooks/datasets/gradedata.xlsx\"\n",
        "df = pd.read_excel(Location)\n",
        "\n",
        "df.head()"
      ],
      "execution_count": null,
      "outputs": []
    },
    {
      "cell_type": "code",
      "metadata": {
        "id": "ZQAeJ-tilUyM"
      },
      "source": [
        "df.index\n",
        "df.columns\n",
        "df.columns = ['first','last','sex','age','exer','hrs','grd','addr']\n",
        "df.head()"
      ],
      "execution_count": null,
      "outputs": []
    },
    {
      "cell_type": "markdown",
      "metadata": {
        "id": "mgYAtbJ8l9xT"
      },
      "source": [
        "**Tarea**: Cargar un archivo de Excel del censo US"
      ]
    },
    {
      "cell_type": "code",
      "metadata": {
        "id": "sJTz43Ajp8re"
      },
      "source": [
        "import pandas as pd\n",
        "Location = \"/content/drive/My Drive/Colab Notebooks/datasets/all_040_in_04.H13.xlsx\"\n",
        "df = pd.read_excel(Location)\n",
        "\n",
        "df.head()\n",
        "#NOTA: EN EL PDF VENIA UN LINK QUE NO PUDE ABRIR, ASI QUE USÉ EL MISMO ENLACE DE LA PRIMER PARTE,\n",
        "#Y LUEGO TRANSFORMÉ ESE CSV A UN .XLSX"
      ],
      "execution_count": null,
      "outputs": []
    },
    {
      "cell_type": "markdown",
      "metadata": {
        "id": "M7ej9j_2mysi"
      },
      "source": [
        "# Guardando un dataframe a Excel\n"
      ]
    },
    {
      "cell_type": "code",
      "metadata": {
        "id": "x4330aQJoVre"
      },
      "source": [
        "!pip install XlsxWriter"
      ],
      "execution_count": null,
      "outputs": []
    },
    {
      "cell_type": "code",
      "metadata": {
        "id": "8cF1XstPm9pk"
      },
      "source": [
        "import pandas as pd\n",
        "import xlsxwriter\n",
        "names = ['Bob','Jessica','Mary','John','Mel'] \n",
        "grades = [76,95,77,78,99]\n",
        "GradeList = zip(names,grades)\n",
        "df = pd.DataFrame(data = GradeList,\n",
        "columns=['Names','Grades'])\n",
        "writer = pd.ExcelWriter('/content/drive/My Drive/Colab Notebooks/Output/dataframe.xlsx', engine='xlsxwriter') \n",
        "df.to_excel(writer, sheet_name='Sheet1')\n",
        "writer.save()"
      ],
      "execution_count": null,
      "outputs": []
    },
    {
      "cell_type": "markdown",
      "metadata": {
        "id": "OB5AI9ffqd16"
      },
      "source": [
        "**Tarea:** Podrías exportar a una hoja de Excel el siguiente código:\n",
        "import pandas as pd\n",
        "names = ['Nike','Adidas','New Balance','Puma',’Reebok’]\n",
        "grades = [176,59,47,38,99]\n",
        "PriceList = zip(names,prices)\n",
        "df = pd.DataFrame(data = PriceList, columns=['Names',’Prices’])"
      ]
    },
    {
      "cell_type": "code",
      "metadata": {
        "id": "ScIapcWi2yLJ"
      },
      "source": [
        "#Aquí va la tarea:\n",
        "!pip install xlsxwriter\n",
        "import pandas as pd\n",
        "import xlsxwriter\n",
        "names = ['Nike','Adidas','New Balance','Puma','Reebok']\n",
        "#Cambié grades por prices porque si no no tendría sentido el código...\n",
        "prices = [176,59,47,38,99]\n",
        "PriceList = zip(names,prices)\n",
        "df = pd.DataFrame(data = PriceList, columns=['Names','Prices'])\n",
        "writer = pd.ExcelWriter('/content/drive/My Drive/Colab Notebooks/Output/Listing2-14.xlsx',engine='xlsxwriter')\n",
        "df.to_excel(writer,sheet_name='Sheet1')\n",
        "writer.save()"
      ],
      "execution_count": null,
      "outputs": []
    },
    {
      "cell_type": "markdown",
      "metadata": {
        "id": "GwGxBqNFrd-P"
      },
      "source": [
        "# Combinando Hojas de Excel"
      ]
    },
    {
      "cell_type": "code",
      "metadata": {
        "id": "TPZPx6YtrjtD"
      },
      "source": [
        "import pandas as pd\n",
        "import numpy as np \n",
        "all_data = pd.DataFrame()\n",
        "df = pd.read_excel(\"/content/drive/My Drive/Colab Notebooks/datasets/data1.xlsx\") \n",
        "all_data = all_data.append(df,ignore_index=True)\n",
        "df = pd.read_excel(\"/content/drive/My Drive/Colab Notebooks/datasets/data2.xlsx\") \n",
        "all_data = all_data.append(df,ignore_index=True)\n",
        "df = pd.read_excel(\"/content/drive/My Drive/Colab Notebooks/datasets/data3.xlsx\") \n",
        "all_data = all_data.append(df,ignore_index=True) \n",
        "all_data.describe()\n"
      ],
      "execution_count": null,
      "outputs": []
    },
    {
      "cell_type": "code",
      "metadata": {
        "id": "wzo6oX-Pt2-G"
      },
      "source": [
        "import pandas as pd\n",
        "import numpy as np\n",
        "import glob\n",
        "all_data = pd.DataFrame()\n",
        "print(glob.glob(\"/content/drive/My Drive/Colab Notebooks/datasets/data*.xlsx\"))\n",
        "for f in glob.glob(\"/content/drive/My Drive/Colab Notebooks/datasets/data*.xlsx\"):\n",
        "  df = pd.read_excel(f)\n",
        "  all_data = all_data.append(df,ignore_index=True) \n",
        "all_data.describe()"
      ],
      "execution_count": null,
      "outputs": []
    },
    {
      "cell_type": "markdown",
      "metadata": {
        "id": "cdkd3rJUvViY"
      },
      "source": [
        "**Tarea** Crear un df con todos los archivos de weekly call data"
      ]
    },
    {
      "cell_type": "code",
      "metadata": {
        "id": "d0NuZNY253xs"
      },
      "source": [
        "#Tarea:\n",
        "import pandas as pd\n",
        "import numpy as np\n",
        "import glob\n",
        "all_data = pd.DataFrame()\n",
        "print(glob.glob(\"/content/drive/My Drive/Colab Notebooks/datasets/weekly_call_data/weekdata_*.xlsx\"))\n",
        "for f in glob.glob(\"/content/drive/My Drive/Colab Notebooks/datasets/weekly_call_data/weekdata_*.xlsx\"):\n",
        "  df = pd.read_excel(f)\n",
        "  all_data = all_data.append(df,ignore_index=True)\n",
        "all_data.rename(columns={\"Unnamed: 0\":\"id\"},inplace = True)\n",
        "all_data.describe()\n",
        "#le puse un nombre a la primer columna que es como un identificador, parece que aparecen repetidos pero \n",
        "#una cosa es el identificador de la llamada para cada semana y otra cosa es el indice\n",
        "#para ver a que me refiero al darle run aparecerá la diferencia en el resultado\n",
        "all_data"
      ],
      "execution_count": null,
      "outputs": []
    },
    {
      "cell_type": "markdown",
      "metadata": {
        "id": "EDPGnrMuwBI5"
      },
      "source": [
        "# Creación de numeros aleatorios"
      ]
    },
    {
      "cell_type": "code",
      "metadata": {
        "id": "gJvI-42EwOb_"
      },
      "source": [
        "import pandas as pd\n",
        "from numpy import random\n",
        "from numpy.random import randint\n",
        "names = ['Bob','Jessica','Mary','John','Mel']\n",
        "\n",
        "random.seed(500)\n",
        "randnames = []\n",
        "for i in range(1000):\n",
        "  name = names[randint(low=0,high=len(names))] \n",
        "  randnames.append(name)\n",
        "print(randnames)"
      ],
      "execution_count": null,
      "outputs": []
    },
    {
      "cell_type": "code",
      "metadata": {
        "id": "3JZVwORNys21",
        "colab": {
          "base_uri": "https://localhost:8080/",
          "height": 456
        },
        "outputId": "8d5a78e4-3d10-4cb5-ebc2-111744c1a869"
      },
      "source": [
        "births = []\n",
        "for i in range(1000):\n",
        "  births.append(randint(low=0, high=1000))\n",
        "print(births)\n",
        "\n",
        "BabyDataSet2 = list(zip(randnames,births)) \n",
        "df = pd.DataFrame(data = BabyDataSet2,columns=['Names', 'Births'])\n",
        "df"
      ],
      "execution_count": null,
      "outputs": [
        {
          "output_type": "stream",
          "text": [
            "[465, 352, 20, 419, 338, 535, 938, 486, 355, 775, 333, 559, 786, 555, 855, 92, 251, 472, 469, 513, 491, 478, 988, 603, 809, 406, 333, 688, 89, 879, 187, 905, 453, 50, 62, 938, 967, 817, 14, 90, 1, 647, 319, 120, 47, 369, 872, 498, 441, 505, 794, 594, 400, 563, 343, 778, 452, 679, 495, 866, 128, 257, 979, 388, 826, 937, 6, 37, 84, 720, 460, 293, 297, 507, 421, 451, 943, 928, 544, 918, 284, 824, 86, 678, 385, 177, 477, 603, 199, 877, 300, 440, 782, 5, 96, 735, 952, 539, 481, 350, 782, 426, 604, 245, 113, 343, 892, 797, 849, 946, 230, 750, 453, 7, 516, 471, 194, 787, 854, 82, 866, 180, 851, 76, 651, 293, 847, 379, 905, 753, 523, 286, 453, 961, 307, 154, 695, 115, 37, 245, 752, 473, 804, 295, 338, 387, 33, 933, 297, 53, 518, 112, 14, 894, 274, 786, 895, 94, 915, 852, 457, 15, 236, 589, 281, 559, 421, 569, 26, 878, 237, 443, 309, 942, 303, 86, 113, 557, 974, 444, 428, 648, 93, 135, 693, 548, 960, 743, 162, 260, 140, 936, 802, 605, 635, 992, 783, 978, 908, 853, 151, 323, 879, 828, 79, 393, 575, 951, 840, 144, 475, 127, 666, 246, 539, 600, 744, 418, 151, 251, 58, 458, 763, 140, 172, 182, 211, 391, 868, 435, 82, 681, 541, 765, 75, 326, 991, 654, 9, 78, 662, 923, 55, 130, 879, 20, 383, 995, 430, 58, 7, 60, 128, 961, 194, 276, 960, 846, 579, 392, 99, 396, 379, 351, 148, 37, 936, 594, 795, 651, 327, 292, 47, 446, 870, 659, 987, 38, 419, 129, 351, 814, 994, 564, 371, 860, 909, 496, 662, 745, 743, 727, 83, 843, 754, 779, 543, 934, 305, 400, 486, 812, 248, 379, 547, 570, 916, 224, 677, 465, 831, 3, 576, 966, 640, 616, 444, 144, 455, 254, 856, 317, 747, 89, 42, 578, 59, 208, 892, 150, 27, 565, 324, 161, 607, 597, 581, 868, 884, 476, 923, 804, 578, 334, 327, 513, 617, 319, 59, 623, 699, 579, 730, 863, 278, 922, 988, 312, 815, 693, 433, 337, 349, 113, 203, 310, 358, 959, 793, 377, 931, 126, 193, 501, 252, 18, 794, 364, 491, 246, 583, 494, 799, 373, 524, 854, 547, 952, 504, 307, 84, 206, 123, 514, 364, 727, 21, 672, 208, 576, 846, 913, 763, 817, 235, 657, 564, 255, 388, 287, 305, 921, 317, 720, 871, 897, 109, 13, 535, 33, 99, 905, 878, 233, 291, 965, 379, 596, 566, 483, 720, 27, 707, 491, 805, 544, 302, 620, 848, 132, 388, 282, 572, 955, 611, 986, 324, 663, 684, 920, 586, 799, 76, 623, 90, 322, 364, 462, 846, 486, 673, 367, 760, 71, 17, 956, 880, 824, 729, 828, 755, 780, 109, 271, 665, 153, 263, 486, 740, 489, 942, 406, 694, 957, 797, 460, 393, 754, 449, 10, 589, 7, 934, 100, 615, 696, 541, 833, 506, 79, 502, 281, 331, 880, 94, 159, 212, 850, 8, 424, 796, 366, 184, 180, 229, 793, 392, 74, 776, 615, 412, 674, 329, 664, 866, 599, 234, 684, 513, 217, 202, 378, 907, 443, 550, 703, 385, 907, 422, 840, 87, 609, 166, 181, 796, 757, 482, 780, 448, 665, 627, 756, 639, 199, 715, 100, 311, 441, 13, 324, 810, 26, 603, 381, 414, 226, 512, 759, 227, 413, 921, 928, 391, 541, 265, 782, 58, 323, 988, 86, 535, 480, 278, 362, 72, 276, 335, 617, 759, 113, 707, 985, 171, 510, 734, 564, 294, 671, 209, 861, 324, 802, 21, 979, 197, 660, 689, 822, 875, 904, 862, 231, 716, 989, 175, 264, 117, 750, 601, 272, 827, 726, 608, 271, 293, 313, 419, 359, 730, 253, 838, 332, 553, 255, 197, 52, 39, 587, 235, 79, 484, 263, 281, 850, 33, 756, 733, 554, 922, 240, 34, 276, 704, 724, 674, 694, 665, 279, 179, 709, 894, 436, 100, 867, 881, 698, 913, 659, 35, 218, 120, 738, 764, 98, 963, 634, 800, 340, 46, 245, 462, 100, 73, 844, 580, 893, 847, 60, 539, 577, 808, 910, 424, 732, 637, 704, 293, 736, 179, 752, 619, 518, 260, 896, 296, 831, 975, 85, 419, 280, 934, 882, 946, 744, 477, 422, 167, 683, 513, 219, 929, 322, 948, 802, 867, 445, 332, 770, 121, 363, 660, 392, 358, 457, 364, 661, 476, 186, 754, 459, 955, 429, 62, 589, 576, 215, 645, 32, 395, 872, 68, 81, 977, 254, 944, 631, 396, 58, 471, 149, 136, 61, 782, 522, 677, 166, 428, 785, 163, 822, 387, 863, 799, 144, 196, 856, 314, 417, 954, 189, 890, 680, 180, 824, 960, 715, 460, 933, 769, 495, 782, 339, 84, 980, 569, 704, 422, 208, 155, 279, 50, 38, 8, 389, 500, 558, 836, 813, 177, 131, 914, 556, 935, 17, 440, 601, 60, 591, 714, 783, 464, 404, 607, 695, 850, 62, 325, 540, 227, 924, 126, 422, 206, 676, 591, 974, 36, 0, 473, 736, 617, 697, 778, 881, 58, 387, 796, 963, 451, 953, 951, 772, 869, 551, 257, 3, 840, 739, 6, 296, 156, 948, 461, 392, 913, 536, 504, 79, 445, 196, 757, 855, 623, 94, 278, 32, 997, 717, 51, 451, 574, 237, 199, 74, 147, 168, 983, 841, 125, 218, 527, 233, 384, 442, 898, 932, 319, 814, 977, 145, 106, 661, 74, 160, 454, 131, 291, 476, 887, 557, 405, 472, 120, 444, 502, 146, 979, 574, 749, 964, 485, 307, 11, 876, 373, 623, 292, 683, 600, 457, 537, 150, 217, 72, 820, 877, 72, 114, 342, 467, 478, 467, 998, 908, 224, 902, 192, 502, 957, 162, 239, 830, 722, 266, 155, 506, 911, 826, 196, 251, 178, 733, 136, 892, 607, 224, 25, 467, 392, 520, 778, 867, 306, 25, 857, 381, 16, 534, 552, 286, 248, 122, 796, 911, 353, 158, 378, 151, 441, 194, 83, 229, 325, 431, 69, 327, 666, 135, 631, 39]\n"
          ],
          "name": "stdout"
        },
        {
          "output_type": "execute_result",
          "data": {
            "text/html": [
              "<div>\n",
              "<style scoped>\n",
              "    .dataframe tbody tr th:only-of-type {\n",
              "        vertical-align: middle;\n",
              "    }\n",
              "\n",
              "    .dataframe tbody tr th {\n",
              "        vertical-align: top;\n",
              "    }\n",
              "\n",
              "    .dataframe thead th {\n",
              "        text-align: right;\n",
              "    }\n",
              "</style>\n",
              "<table border=\"1\" class=\"dataframe\">\n",
              "  <thead>\n",
              "    <tr style=\"text-align: right;\">\n",
              "      <th></th>\n",
              "      <th>Names</th>\n",
              "      <th>Births</th>\n",
              "    </tr>\n",
              "  </thead>\n",
              "  <tbody>\n",
              "    <tr>\n",
              "      <th>0</th>\n",
              "      <td>Juan</td>\n",
              "      <td>465</td>\n",
              "    </tr>\n",
              "    <tr>\n",
              "      <th>1</th>\n",
              "      <td>Juan</td>\n",
              "      <td>352</td>\n",
              "    </tr>\n",
              "    <tr>\n",
              "      <th>2</th>\n",
              "      <td>María</td>\n",
              "      <td>20</td>\n",
              "    </tr>\n",
              "    <tr>\n",
              "      <th>3</th>\n",
              "      <td>Juan</td>\n",
              "      <td>419</td>\n",
              "    </tr>\n",
              "    <tr>\n",
              "      <th>4</th>\n",
              "      <td>José</td>\n",
              "      <td>338</td>\n",
              "    </tr>\n",
              "    <tr>\n",
              "      <th>...</th>\n",
              "      <td>...</td>\n",
              "      <td>...</td>\n",
              "    </tr>\n",
              "    <tr>\n",
              "      <th>245</th>\n",
              "      <td>Francisco</td>\n",
              "      <td>20</td>\n",
              "    </tr>\n",
              "    <tr>\n",
              "      <th>246</th>\n",
              "      <td>Guadalupe</td>\n",
              "      <td>383</td>\n",
              "    </tr>\n",
              "    <tr>\n",
              "      <th>247</th>\n",
              "      <td>Juan</td>\n",
              "      <td>995</td>\n",
              "    </tr>\n",
              "    <tr>\n",
              "      <th>248</th>\n",
              "      <td>María</td>\n",
              "      <td>430</td>\n",
              "    </tr>\n",
              "    <tr>\n",
              "      <th>249</th>\n",
              "      <td>Jorge</td>\n",
              "      <td>58</td>\n",
              "    </tr>\n",
              "  </tbody>\n",
              "</table>\n",
              "<p>250 rows × 2 columns</p>\n",
              "</div>"
            ],
            "text/plain": [
              "         Names  Births\n",
              "0         Juan     465\n",
              "1         Juan     352\n",
              "2        María      20\n",
              "3         Juan     419\n",
              "4         José     338\n",
              "..         ...     ...\n",
              "245  Francisco      20\n",
              "246  Guadalupe     383\n",
              "247       Juan     995\n",
              "248      María     430\n",
              "249      Jorge      58\n",
              "\n",
              "[250 rows x 2 columns]"
            ]
          },
          "metadata": {
            "tags": []
          },
          "execution_count": 71
        }
      ]
    },
    {
      "cell_type": "markdown",
      "metadata": {
        "id": "2oyHh5CizPNQ"
      },
      "source": [
        "**Tarea**:Create a dataframe called parkingtickets with 250 rows containing a name and a number between 1 and 25."
      ]
    },
    {
      "cell_type": "code",
      "metadata": {
        "id": "w_HJfEF5Gwds",
        "colab": {
          "base_uri": "https://localhost:8080/",
          "height": 473
        },
        "outputId": "75e2057e-b058-4445-e781-445fa0ca12d5"
      },
      "source": [
        "#TAREA:\n",
        "import pandas as pd\n",
        "from numpy import random\n",
        "from numpy.random import randint\n",
        "\n",
        "names = ['Juan','José Luis','José','María','Guadalupe','Francisco','Jorge']\n",
        "\n",
        "random.seed(9)\n",
        "randnames = []\n",
        "for i in range(250):\n",
        "  name = names[randint(low=0,high=len(names))] \n",
        "  randnames.append(name)\n",
        "print(randnames)\n",
        "\n",
        "numbers = []\n",
        "for i in range(250):\n",
        "  numbers.append(randint(low=1, high=26))\n",
        "print(numbers)\n",
        "#pusé 26 porque según la documentacion, el limite de abajo es incluyente y el de arriba es excluyente.\n",
        "#fuente: https://numpy.org/doc/stable/reference/random/generated/numpy.random.randint.html\n",
        "dataToJoin = list(zip(randnames,numbers)) \n",
        "parkingtickets = pd.DataFrame(data = dataToJoin,columns=['Names', 'Parking Stall'])\n",
        "parkingtickets"
      ],
      "execution_count": null,
      "outputs": [
        {
          "output_type": "stream",
          "text": [
            "['Jorge', 'Guadalupe', 'Jorge', 'Francisco', 'Jorge', 'Juan', 'María', 'Jorge', 'Francisco', 'José Luis', 'Jorge', 'Guadalupe', 'María', 'Juan', 'José', 'José Luis', 'Juan', 'Francisco', 'María', 'José Luis', 'Francisco', 'Guadalupe', 'Juan', 'Guadalupe', 'Jorge', 'María', 'Juan', 'José', 'Juan', 'Francisco', 'Jorge', 'José', 'Guadalupe', 'Juan', 'Guadalupe', 'José', 'Jorge', 'Juan', 'José Luis', 'Juan', 'María', 'María', 'Francisco', 'María', 'Jorge', 'José Luis', 'Juan', 'Juan', 'José Luis', 'Juan', 'Francisco', 'María', 'José', 'José Luis', 'Francisco', 'Francisco', 'Guadalupe', 'José', 'Jorge', 'Jorge', 'José', 'Juan', 'Guadalupe', 'Francisco', 'María', 'Guadalupe', 'José', 'Juan', 'José', 'Juan', 'Juan', 'Guadalupe', 'Francisco', 'Guadalupe', 'Juan', 'María', 'Jorge', 'Juan', 'Guadalupe', 'María', 'Juan', 'Juan', 'José Luis', 'José', 'Francisco', 'María', 'Guadalupe', 'María', 'Francisco', 'José', 'Juan', 'Guadalupe', 'Jorge', 'Jorge', 'José', 'Francisco', 'José', 'José', 'Francisco', 'Jorge', 'María', 'José Luis', 'José', 'José', 'José Luis', 'María', 'Juan', 'José Luis', 'Juan', 'José', 'Juan', 'Guadalupe', 'José', 'Juan', 'Juan', 'Jorge', 'María', 'Francisco', 'María', 'Juan', 'José', 'Guadalupe', 'María', 'Juan', 'José Luis', 'Jorge', 'Guadalupe', 'Jorge', 'José Luis', 'Guadalupe', 'Jorge', 'José', 'Francisco', 'Juan', 'Juan', 'José Luis', 'Francisco', 'María', 'Francisco', 'Juan', 'Jorge', 'Guadalupe', 'Jorge', 'María', 'Jorge', 'José Luis', 'José', 'Jorge', 'Guadalupe', 'Francisco', 'Juan', 'José Luis', 'Juan', 'Francisco', 'José', 'Francisco', 'José', 'María', 'Jorge', 'Francisco', 'María', 'Jorge', 'José Luis', 'Jorge', 'José Luis', 'Juan', 'Juan', 'Jorge', 'Juan', 'José Luis', 'José', 'Juan', 'Francisco', 'José Luis', 'José', 'María', 'Jorge', 'José', 'Juan', 'Francisco', 'Guadalupe', 'José', 'Juan', 'María', 'Juan', 'José Luis', 'José', 'Guadalupe', 'José', 'María', 'Juan', 'José Luis', 'Jorge', 'Guadalupe', 'José Luis', 'María', 'María', 'Francisco', 'José Luis', 'José Luis', 'Guadalupe', 'José', 'José Luis', 'José Luis', 'Juan', 'José', 'José', 'José Luis', 'María', 'Guadalupe', 'José', 'María', 'José', 'María', 'José Luis', 'Francisco', 'José', 'José', 'José', 'Jorge', 'María', 'Jorge', 'María', 'Francisco', 'José Luis', 'Francisco', 'José', 'Guadalupe', 'Guadalupe', 'José Luis', 'Francisco', 'Jorge', 'María', 'María', 'Francisco', 'José', 'Guadalupe', 'Francisco', 'Francisco', 'José Luis', 'María', 'Jorge', 'José', 'Francisco', 'José Luis', 'Guadalupe', 'Francisco', 'Francisco', 'José', 'José']\n",
            "[22, 19, 10, 21, 9, 19, 9, 18, 1, 24, 13, 11, 15, 10, 3, 10, 19, 24, 5, 19, 16, 8, 4, 10, 18, 17, 17, 10, 16, 21, 17, 4, 4, 7, 21, 14, 9, 10, 15, 17, 14, 23, 10, 15, 5, 8, 21, 12, 17, 20, 9, 23, 6, 24, 4, 11, 7, 15, 19, 23, 6, 22, 23, 23, 22, 13, 5, 8, 13, 18, 25, 9, 7, 24, 5, 6, 4, 23, 1, 4, 19, 17, 13, 7, 15, 24, 25, 20, 3, 18, 18, 7, 5, 9, 22, 20, 4, 8, 20, 12, 15, 18, 12, 18, 17, 2, 16, 19, 16, 17, 10, 17, 9, 7, 15, 7, 6, 13, 23, 9, 12, 8, 4, 21, 21, 19, 12, 8, 13, 1, 9, 22, 9, 14, 15, 11, 21, 19, 15, 18, 8, 21, 1, 24, 6, 12, 20, 20, 25, 17, 18, 19, 3, 23, 13, 5, 23, 23, 10, 9, 12, 21, 11, 16, 20, 21, 14, 4, 23, 7, 18, 12, 8, 15, 4, 6, 22, 6, 13, 25, 3, 23, 12, 5, 10, 13, 13, 8, 3, 19, 19, 23, 5, 21, 21, 18, 18, 2, 11, 2, 13, 22, 8, 17, 13, 13, 5, 6, 21, 8, 5, 24, 18, 14, 10, 5, 18, 11, 6, 13, 4, 17, 13, 20, 14, 12, 3, 13, 9, 12, 8, 5, 20, 18, 6, 4, 14, 16, 24, 10, 14, 20, 2, 6, 20, 23, 24, 1, 25, 12]\n"
          ],
          "name": "stdout"
        },
        {
          "output_type": "execute_result",
          "data": {
            "text/html": [
              "<div>\n",
              "<style scoped>\n",
              "    .dataframe tbody tr th:only-of-type {\n",
              "        vertical-align: middle;\n",
              "    }\n",
              "\n",
              "    .dataframe tbody tr th {\n",
              "        vertical-align: top;\n",
              "    }\n",
              "\n",
              "    .dataframe thead th {\n",
              "        text-align: right;\n",
              "    }\n",
              "</style>\n",
              "<table border=\"1\" class=\"dataframe\">\n",
              "  <thead>\n",
              "    <tr style=\"text-align: right;\">\n",
              "      <th></th>\n",
              "      <th>Names</th>\n",
              "      <th>Parking Stall</th>\n",
              "    </tr>\n",
              "  </thead>\n",
              "  <tbody>\n",
              "    <tr>\n",
              "      <th>0</th>\n",
              "      <td>Jorge</td>\n",
              "      <td>22</td>\n",
              "    </tr>\n",
              "    <tr>\n",
              "      <th>1</th>\n",
              "      <td>Guadalupe</td>\n",
              "      <td>19</td>\n",
              "    </tr>\n",
              "    <tr>\n",
              "      <th>2</th>\n",
              "      <td>Jorge</td>\n",
              "      <td>10</td>\n",
              "    </tr>\n",
              "    <tr>\n",
              "      <th>3</th>\n",
              "      <td>Francisco</td>\n",
              "      <td>21</td>\n",
              "    </tr>\n",
              "    <tr>\n",
              "      <th>4</th>\n",
              "      <td>Jorge</td>\n",
              "      <td>9</td>\n",
              "    </tr>\n",
              "    <tr>\n",
              "      <th>...</th>\n",
              "      <td>...</td>\n",
              "      <td>...</td>\n",
              "    </tr>\n",
              "    <tr>\n",
              "      <th>245</th>\n",
              "      <td>Guadalupe</td>\n",
              "      <td>23</td>\n",
              "    </tr>\n",
              "    <tr>\n",
              "      <th>246</th>\n",
              "      <td>Francisco</td>\n",
              "      <td>24</td>\n",
              "    </tr>\n",
              "    <tr>\n",
              "      <th>247</th>\n",
              "      <td>Francisco</td>\n",
              "      <td>1</td>\n",
              "    </tr>\n",
              "    <tr>\n",
              "      <th>248</th>\n",
              "      <td>José</td>\n",
              "      <td>25</td>\n",
              "    </tr>\n",
              "    <tr>\n",
              "      <th>249</th>\n",
              "      <td>José</td>\n",
              "      <td>12</td>\n",
              "    </tr>\n",
              "  </tbody>\n",
              "</table>\n",
              "<p>250 rows × 2 columns</p>\n",
              "</div>"
            ],
            "text/plain": [
              "         Names  Parking Stall\n",
              "0        Jorge             22\n",
              "1    Guadalupe             19\n",
              "2        Jorge             10\n",
              "3    Francisco             21\n",
              "4        Jorge              9\n",
              "..         ...            ...\n",
              "245  Guadalupe             23\n",
              "246  Francisco             24\n",
              "247  Francisco              1\n",
              "248       José             25\n",
              "249       José             12\n",
              "\n",
              "[250 rows x 2 columns]"
            ]
          },
          "metadata": {
            "tags": []
          },
          "execution_count": 75
        }
      ]
    }
  ]
}