{
  "nbformat": 4,
  "nbformat_minor": 0,
  "metadata": {
    "colab": {
      "name": "3-SignificadoFull.ipynb",
      "provenance": [],
      "toc_visible": true,
      "include_colab_link": true
    },
    "kernelspec": {
      "name": "python3",
      "display_name": "Python 3"
    }
  },
  "cells": [
    {
      "cell_type": "markdown",
      "metadata": {
        "id": "view-in-github",
        "colab_type": "text"
      },
      "source": [
        "<a href=\"https://colab.research.google.com/github/daviders98/pythonprojects/blob/master/Data%20Science%203%20-%20Finding%20meaning%20in%20data.ipynb\" target=\"_parent\"><img src=\"https://colab.research.google.com/assets/colab-badge.svg\" alt=\"Open In Colab\"/></a>"
      ]
    },
    {
      "cell_type": "markdown",
      "metadata": {
        "id": "USBmQ8HvZLAg"
      },
      "source": [
        "# **Encontrando significado**"
      ]
    },
    {
      "cell_type": "code",
      "metadata": {
        "id": "Xs2EkQ9gvPX6",
        "colab": {
          "base_uri": "https://localhost:8080/"
        },
        "outputId": "ff37916f-199e-495f-c79f-3306cf0b9c78"
      },
      "source": [
        "from google.colab import drive\n",
        "drive.mount('/content/drive')"
      ],
      "execution_count": null,
      "outputs": [
        {
          "output_type": "stream",
          "text": [
            "Mounted at /content/drive\n"
          ],
          "name": "stdout"
        }
      ]
    },
    {
      "cell_type": "code",
      "metadata": {
        "id": "lZrkefi_ZVqT",
        "colab": {
          "base_uri": "https://localhost:8080/",
          "height": 204
        },
        "outputId": "68d3165e-45f4-41c6-eba6-6dcf81eedc21"
      },
      "source": [
        "import pandas as pd\n",
        "names = ['Bob','Jessica','Mary','John','Mel']\n",
        "grades = [76,95,77,78,99]\n",
        "\n",
        "GradeList = zip(names,grades)\n",
        "df = pd.DataFrame(data=GradeList,columns=['Names','Grades'])\n",
        "df"
      ],
      "execution_count": null,
      "outputs": [
        {
          "output_type": "execute_result",
          "data": {
            "text/html": [
              "<div>\n",
              "<style scoped>\n",
              "    .dataframe tbody tr th:only-of-type {\n",
              "        vertical-align: middle;\n",
              "    }\n",
              "\n",
              "    .dataframe tbody tr th {\n",
              "        vertical-align: top;\n",
              "    }\n",
              "\n",
              "    .dataframe thead th {\n",
              "        text-align: right;\n",
              "    }\n",
              "</style>\n",
              "<table border=\"1\" class=\"dataframe\">\n",
              "  <thead>\n",
              "    <tr style=\"text-align: right;\">\n",
              "      <th></th>\n",
              "      <th>Names</th>\n",
              "      <th>Grades</th>\n",
              "    </tr>\n",
              "  </thead>\n",
              "  <tbody>\n",
              "    <tr>\n",
              "      <th>0</th>\n",
              "      <td>Bob</td>\n",
              "      <td>76</td>\n",
              "    </tr>\n",
              "    <tr>\n",
              "      <th>1</th>\n",
              "      <td>Jessica</td>\n",
              "      <td>95</td>\n",
              "    </tr>\n",
              "    <tr>\n",
              "      <th>2</th>\n",
              "      <td>Mary</td>\n",
              "      <td>77</td>\n",
              "    </tr>\n",
              "    <tr>\n",
              "      <th>3</th>\n",
              "      <td>John</td>\n",
              "      <td>78</td>\n",
              "    </tr>\n",
              "    <tr>\n",
              "      <th>4</th>\n",
              "      <td>Mel</td>\n",
              "      <td>99</td>\n",
              "    </tr>\n",
              "  </tbody>\n",
              "</table>\n",
              "</div>"
            ],
            "text/plain": [
              "     Names  Grades\n",
              "0      Bob      76\n",
              "1  Jessica      95\n",
              "2     Mary      77\n",
              "3     John      78\n",
              "4      Mel      99"
            ]
          },
          "metadata": {
            "tags": []
          },
          "execution_count": 6
        }
      ]
    },
    {
      "cell_type": "code",
      "metadata": {
        "id": "RWLuCtEXZgJ0",
        "colab": {
          "base_uri": "https://localhost:8080/",
          "height": 34
        },
        "outputId": "5e768599-aae8-4654-caee-66a9b9f093d6"
      },
      "source": [
        "df['Grades'].count() # number of values"
      ],
      "execution_count": null,
      "outputs": [
        {
          "output_type": "execute_result",
          "data": {
            "text/plain": [
              "5"
            ]
          },
          "metadata": {
            "tags": []
          },
          "execution_count": 7
        }
      ]
    },
    {
      "cell_type": "code",
      "metadata": {
        "id": "raPgjObkZm-x",
        "colab": {
          "base_uri": "https://localhost:8080/",
          "height": 34
        },
        "outputId": "be9792f9-de0a-4e30-e98c-a5a98447d4ec"
      },
      "source": [
        "\n",
        "df['Grades'].mean() # arithmetic average\n"
      ],
      "execution_count": null,
      "outputs": [
        {
          "output_type": "execute_result",
          "data": {
            "text/plain": [
              "85.0"
            ]
          },
          "metadata": {
            "tags": []
          },
          "execution_count": 8
        }
      ]
    },
    {
      "cell_type": "code",
      "metadata": {
        "id": "NopBTZpZZqoM",
        "colab": {
          "base_uri": "https://localhost:8080/",
          "height": 34
        },
        "outputId": "48351b3f-545e-4271-e4d1-e7d891fc7ee5"
      },
      "source": [
        "df['Grades'].std() # standard deviation"
      ],
      "execution_count": null,
      "outputs": [
        {
          "output_type": "execute_result",
          "data": {
            "text/plain": [
              "11.067971810589327"
            ]
          },
          "metadata": {
            "tags": []
          },
          "execution_count": 4
        }
      ]
    },
    {
      "cell_type": "code",
      "metadata": {
        "id": "sPOP_rD0Zt8f",
        "colab": {
          "base_uri": "https://localhost:8080/",
          "height": 34
        },
        "outputId": "14ef44d7-52f4-468e-a572-4b06cd31319e"
      },
      "source": [
        "\n",
        "df['Grades'].min() # minimum\n"
      ],
      "execution_count": null,
      "outputs": [
        {
          "output_type": "execute_result",
          "data": {
            "text/plain": [
              "76"
            ]
          },
          "metadata": {
            "tags": []
          },
          "execution_count": 5
        }
      ]
    },
    {
      "cell_type": "code",
      "metadata": {
        "id": "E5sm9QZfZxu1",
        "colab": {
          "base_uri": "https://localhost:8080/",
          "height": 34
        },
        "outputId": "9f46461c-51d8-442f-d898-ba57da7b116e"
      },
      "source": [
        "\n",
        "df['Grades'].max() # maximum\n"
      ],
      "execution_count": null,
      "outputs": [
        {
          "output_type": "execute_result",
          "data": {
            "text/plain": [
              "99"
            ]
          },
          "metadata": {
            "tags": []
          },
          "execution_count": 6
        }
      ]
    },
    {
      "cell_type": "code",
      "metadata": {
        "id": "d1UBzKd4Z2a6",
        "colab": {
          "base_uri": "https://localhost:8080/",
          "height": 34
        },
        "outputId": "730bc1ce-b5a3-4ee5-9687-5574578f27e6"
      },
      "source": [
        "df['Grades'].quantile(.25) # first quartile"
      ],
      "execution_count": null,
      "outputs": [
        {
          "output_type": "execute_result",
          "data": {
            "text/plain": [
              "77.0"
            ]
          },
          "metadata": {
            "tags": []
          },
          "execution_count": 7
        }
      ]
    },
    {
      "cell_type": "code",
      "metadata": {
        "id": "ckxeyuL1Z7K3",
        "colab": {
          "base_uri": "https://localhost:8080/",
          "height": 34
        },
        "outputId": "5efa9114-ea70-4d20-c587-986b95f0452b"
      },
      "source": [
        "\n",
        "df['Grades'].quantile(.5) # second quartile"
      ],
      "execution_count": null,
      "outputs": [
        {
          "output_type": "execute_result",
          "data": {
            "text/plain": [
              "78.0"
            ]
          },
          "metadata": {
            "tags": []
          },
          "execution_count": 8
        }
      ]
    },
    {
      "cell_type": "code",
      "metadata": {
        "id": "MsI5TERPZ-FU",
        "colab": {
          "base_uri": "https://localhost:8080/",
          "height": 34
        },
        "outputId": "c819d2b1-65c3-46ac-eb55-fe991acce5fb"
      },
      "source": [
        "df['Grades'].quantile(.75) # third quartile"
      ],
      "execution_count": null,
      "outputs": [
        {
          "output_type": "execute_result",
          "data": {
            "text/plain": [
              "95.0"
            ]
          },
          "metadata": {
            "tags": []
          },
          "execution_count": 9
        }
      ]
    },
    {
      "cell_type": "code",
      "metadata": {
        "id": "9YpVSSlNaHX4",
        "colab": {
          "base_uri": "https://localhost:8080/",
          "height": 34
        },
        "outputId": "fdd84746-251b-450a-a6cf-c8bc0f783834"
      },
      "source": [
        "df['Grades'].median()"
      ],
      "execution_count": null,
      "outputs": [
        {
          "output_type": "execute_result",
          "data": {
            "text/plain": [
              "78.0"
            ]
          },
          "metadata": {
            "tags": []
          },
          "execution_count": 10
        }
      ]
    },
    {
      "cell_type": "code",
      "metadata": {
        "id": "By1fXh0zaLA-",
        "colab": {
          "base_uri": "https://localhost:8080/",
          "height": 119
        },
        "outputId": "6654c9cc-97ff-44fc-f1e9-1f6603fd9f05"
      },
      "source": [
        "df['Grades'].mode()"
      ],
      "execution_count": null,
      "outputs": [
        {
          "output_type": "execute_result",
          "data": {
            "text/plain": [
              "0    76\n",
              "1    77\n",
              "2    78\n",
              "3    95\n",
              "4    99\n",
              "dtype: int64"
            ]
          },
          "metadata": {
            "tags": []
          },
          "execution_count": 15
        }
      ]
    },
    {
      "cell_type": "code",
      "metadata": {
        "id": "gbpVWVelaXuz",
        "colab": {
          "base_uri": "https://localhost:8080/",
          "height": 34
        },
        "outputId": "f8b28ae3-a4a2-4af7-9bba-d96f6d00764d"
      },
      "source": [
        "# computes the variance of the values in a column\n",
        "df['Grades'].var()"
      ],
      "execution_count": null,
      "outputs": [
        {
          "output_type": "execute_result",
          "data": {
            "text/plain": [
              "122.5"
            ]
          },
          "metadata": {
            "tags": []
          },
          "execution_count": 16
        }
      ]
    },
    {
      "cell_type": "code",
      "metadata": {
        "id": "rC1qLGd9aeKi",
        "colab": {
          "base_uri": "https://localhost:8080/",
          "height": 51
        },
        "outputId": "2aa15a3c-1370-41ae-c721-68ed13c5be8b"
      },
      "source": [
        "df.var()"
      ],
      "execution_count": null,
      "outputs": [
        {
          "output_type": "execute_result",
          "data": {
            "text/plain": [
              "Grades    122.5\n",
              "dtype: float64"
            ]
          },
          "metadata": {
            "tags": []
          },
          "execution_count": 17
        }
      ]
    },
    {
      "cell_type": "markdown",
      "metadata": {
        "id": "6_Sm0-Dxawi1"
      },
      "source": [
        "**Your Turn**\n",
        "Of course, in our dataset we only have one column. Try creating a\n",
        "dataframe and computing summary statistics using the dataset in\n",
        "\n",
        "**Listing 4-6. Starting Dataset**\n",
        "names = ['Bob','Jessica','Mary','John','Mel']\n",
        "grades = [76,95,77,78,99]\n",
        "bsdegrees = [1,1,0,0,1]\n",
        "msdegrees = [2,1,0,0,0]\n",
        "phddegrees = [0,1,0,0,0]"
      ]
    },
    {
      "cell_type": "code",
      "metadata": {
        "id": "16W9mEpuawlh",
        "colab": {
          "base_uri": "https://localhost:8080/",
          "height": 390
        },
        "outputId": "fb1a632a-3c3e-46ab-d499-7eab90355810"
      },
      "source": [
        "import pandas as pd\n",
        "names = ['Bob','Jessica','Mary','John','Mel'] \n",
        "grades = [76,95,77,78,99]\n",
        "bsdegrees = [1,1,0,0,1]\n",
        "msdegrees = [2,1,0,0,0]\n",
        "phddegrees = [0,1,0,0,0]\n",
        "info = zip(names,grades,bsdegrees,msdegrees,phddegrees)\n",
        "df = pd.DataFrame(data=info,columns=['Names','Grades','BS','MS','PhD'])\n",
        "items = ['Cantidad de datos','Media','Desv. Est.','Min','Max',\n",
        "         '1er cuartil','2do cuartil','3er cuartil','Mediana','Moda','Varianza']\n",
        "List = [\n",
        "df['Grades'].count(),\n",
        "df['Grades'].mean(),\n",
        "df['Grades'].std(),\n",
        "df['Grades'].min(),\n",
        "df['Grades'].max(),\n",
        "df['Grades'].quantile(.25),\n",
        "df['Grades'].quantile(.5),\n",
        "df['Grades'].quantile(.75),\n",
        "df['Grades'].median(),\n",
        "df['Grades'].mode().values,\n",
        "df['Grades'].var()]\n",
        "pd.DataFrame(data = zip(items,List),columns=['Estadístico','Resultado'])"
      ],
      "execution_count": null,
      "outputs": [
        {
          "output_type": "execute_result",
          "data": {
            "text/html": [
              "<div>\n",
              "<style scoped>\n",
              "    .dataframe tbody tr th:only-of-type {\n",
              "        vertical-align: middle;\n",
              "    }\n",
              "\n",
              "    .dataframe tbody tr th {\n",
              "        vertical-align: top;\n",
              "    }\n",
              "\n",
              "    .dataframe thead th {\n",
              "        text-align: right;\n",
              "    }\n",
              "</style>\n",
              "<table border=\"1\" class=\"dataframe\">\n",
              "  <thead>\n",
              "    <tr style=\"text-align: right;\">\n",
              "      <th></th>\n",
              "      <th>Estadístico</th>\n",
              "      <th>Resultado</th>\n",
              "    </tr>\n",
              "  </thead>\n",
              "  <tbody>\n",
              "    <tr>\n",
              "      <th>0</th>\n",
              "      <td>Cantidad de datos</td>\n",
              "      <td>5</td>\n",
              "    </tr>\n",
              "    <tr>\n",
              "      <th>1</th>\n",
              "      <td>Media</td>\n",
              "      <td>85</td>\n",
              "    </tr>\n",
              "    <tr>\n",
              "      <th>2</th>\n",
              "      <td>Desv. Est.</td>\n",
              "      <td>11.068</td>\n",
              "    </tr>\n",
              "    <tr>\n",
              "      <th>3</th>\n",
              "      <td>Min</td>\n",
              "      <td>76</td>\n",
              "    </tr>\n",
              "    <tr>\n",
              "      <th>4</th>\n",
              "      <td>Max</td>\n",
              "      <td>99</td>\n",
              "    </tr>\n",
              "    <tr>\n",
              "      <th>5</th>\n",
              "      <td>1er cuartil</td>\n",
              "      <td>77</td>\n",
              "    </tr>\n",
              "    <tr>\n",
              "      <th>6</th>\n",
              "      <td>2do cuartil</td>\n",
              "      <td>78</td>\n",
              "    </tr>\n",
              "    <tr>\n",
              "      <th>7</th>\n",
              "      <td>3er cuartil</td>\n",
              "      <td>95</td>\n",
              "    </tr>\n",
              "    <tr>\n",
              "      <th>8</th>\n",
              "      <td>Mediana</td>\n",
              "      <td>78</td>\n",
              "    </tr>\n",
              "    <tr>\n",
              "      <th>9</th>\n",
              "      <td>Moda</td>\n",
              "      <td>[76, 77, 78, 95, 99]</td>\n",
              "    </tr>\n",
              "    <tr>\n",
              "      <th>10</th>\n",
              "      <td>Varianza</td>\n",
              "      <td>122.5</td>\n",
              "    </tr>\n",
              "  </tbody>\n",
              "</table>\n",
              "</div>"
            ],
            "text/plain": [
              "          Estadístico             Resultado\n",
              "0   Cantidad de datos                     5\n",
              "1               Media                    85\n",
              "2          Desv. Est.                11.068\n",
              "3                 Min                    76\n",
              "4                 Max                    99\n",
              "5         1er cuartil                    77\n",
              "6         2do cuartil                    78\n",
              "7         3er cuartil                    95\n",
              "8             Mediana                    78\n",
              "9                Moda  [76, 77, 78, 95, 99]\n",
              "10           Varianza                 122.5"
            ]
          },
          "metadata": {
            "tags": []
          },
          "execution_count": 7
        }
      ]
    },
    {
      "cell_type": "markdown",
      "metadata": {
        "id": "pIHdYsfWa-MM"
      },
      "source": [
        "# **Cálcular estadística sumativa sobre renglones que cumplen con cierto criterio**"
      ]
    },
    {
      "cell_type": "code",
      "metadata": {
        "id": "5Wh04td1bHVc",
        "colab": {
          "base_uri": "https://localhost:8080/",
          "height": 204
        },
        "outputId": "c38b9aaa-75d0-48b0-a770-88c02aff51d6"
      },
      "source": [
        "import pandas as pd\n",
        "\n",
        "names = ['Bob','Jessica','Mary','John','Mel']\n",
        "grades = [76,95,77,78,99]\n",
        "bs = [1,1,0,0,1]\n",
        "ms = [2,1,0,0,0]\n",
        "phd = [0,1,0,0,0]\n",
        "\n",
        "GradeList = zip(names,grades,bs,ms,phd)\n",
        "\n",
        "df = pd.DataFrame(data=GradeList, columns=['Name','Grade','BS','MS','PhD'])\n",
        "df"
      ],
      "execution_count": null,
      "outputs": [
        {
          "output_type": "execute_result",
          "data": {
            "text/html": [
              "<div>\n",
              "<style scoped>\n",
              "    .dataframe tbody tr th:only-of-type {\n",
              "        vertical-align: middle;\n",
              "    }\n",
              "\n",
              "    .dataframe tbody tr th {\n",
              "        vertical-align: top;\n",
              "    }\n",
              "\n",
              "    .dataframe thead th {\n",
              "        text-align: right;\n",
              "    }\n",
              "</style>\n",
              "<table border=\"1\" class=\"dataframe\">\n",
              "  <thead>\n",
              "    <tr style=\"text-align: right;\">\n",
              "      <th></th>\n",
              "      <th>Name</th>\n",
              "      <th>Grade</th>\n",
              "      <th>BS</th>\n",
              "      <th>MS</th>\n",
              "      <th>PhD</th>\n",
              "    </tr>\n",
              "  </thead>\n",
              "  <tbody>\n",
              "    <tr>\n",
              "      <th>0</th>\n",
              "      <td>Bob</td>\n",
              "      <td>76</td>\n",
              "      <td>1</td>\n",
              "      <td>2</td>\n",
              "      <td>0</td>\n",
              "    </tr>\n",
              "    <tr>\n",
              "      <th>1</th>\n",
              "      <td>Jessica</td>\n",
              "      <td>95</td>\n",
              "      <td>1</td>\n",
              "      <td>1</td>\n",
              "      <td>1</td>\n",
              "    </tr>\n",
              "    <tr>\n",
              "      <th>2</th>\n",
              "      <td>Mary</td>\n",
              "      <td>77</td>\n",
              "      <td>0</td>\n",
              "      <td>0</td>\n",
              "      <td>0</td>\n",
              "    </tr>\n",
              "    <tr>\n",
              "      <th>3</th>\n",
              "      <td>John</td>\n",
              "      <td>78</td>\n",
              "      <td>0</td>\n",
              "      <td>0</td>\n",
              "      <td>0</td>\n",
              "    </tr>\n",
              "    <tr>\n",
              "      <th>4</th>\n",
              "      <td>Mel</td>\n",
              "      <td>99</td>\n",
              "      <td>1</td>\n",
              "      <td>0</td>\n",
              "      <td>0</td>\n",
              "    </tr>\n",
              "  </tbody>\n",
              "</table>\n",
              "</div>"
            ],
            "text/plain": [
              "      Name  Grade  BS  MS  PhD\n",
              "0      Bob     76   1   2    0\n",
              "1  Jessica     95   1   1    1\n",
              "2     Mary     77   0   0    0\n",
              "3     John     78   0   0    0\n",
              "4      Mel     99   1   0    0"
            ]
          },
          "metadata": {
            "tags": []
          },
          "execution_count": 9
        }
      ]
    },
    {
      "cell_type": "code",
      "metadata": {
        "id": "3hoHFvr6bWk8",
        "colab": {
          "base_uri": "https://localhost:8080/",
          "height": 119
        },
        "outputId": "08a8d22f-83b0-47ee-cde3-6d8178411b00"
      },
      "source": [
        "df.loc[df['PhD']==0].count()"
      ],
      "execution_count": null,
      "outputs": [
        {
          "output_type": "execute_result",
          "data": {
            "text/plain": [
              "Name     4\n",
              "Grade    4\n",
              "BS       4\n",
              "MS       4\n",
              "PhD      4\n",
              "dtype: int64"
            ]
          },
          "metadata": {
            "tags": []
          },
          "execution_count": 23
        }
      ]
    },
    {
      "cell_type": "code",
      "metadata": {
        "id": "nlEIHxH1bp6n",
        "colab": {
          "base_uri": "https://localhost:8080/",
          "height": 34
        },
        "outputId": "532cbb34-a6ed-4309-fef7-72d987a31b6f"
      },
      "source": [
        "df.loc[df['PhD']==0]['Grade'].mean()"
      ],
      "execution_count": null,
      "outputs": [
        {
          "output_type": "execute_result",
          "data": {
            "text/plain": [
              "82.5"
            ]
          },
          "metadata": {
            "tags": []
          },
          "execution_count": 25
        }
      ]
    },
    {
      "cell_type": "markdown",
      "metadata": {
        "id": "rM5C0Xknb5GG"
      },
      "source": [
        "**Your Turn**\n",
        "Using the data from **Listing 4-10**, what is the average grade for people with\n",
        "master’s degrees?\n",
        "**Listing 4-10**. Dataset for Exercise\n",
        "import pandas as pd\n",
        "names = ['Bob','Jessica','Mary','John',\n",
        "'Mel','Sam','Cathy','Henry','Lloyd']\n",
        "grades = [76,95,77,78,99,84,79,100,73]\n",
        "bs = [1,1,0,0,1,1,1,0,1]\n",
        "ms = [2,1,0,0,0,1,1,0,0]\n",
        "phd = [0,1,0,0,0,2,1,0,0]\n",
        "GradeList = zip(names,grades,bs,ms,phd)\n",
        "df = pd.DataFrame(data=GradeList,\n",
        "columns=['Names','Grades','BS','MS','PhD'])\n",
        "df"
      ]
    },
    {
      "cell_type": "code",
      "metadata": {
        "id": "Yv21cYtecA9h",
        "colab": {
          "base_uri": "https://localhost:8080/"
        },
        "outputId": "cc78ef70-5662-4797-8ac7-ab7b2da11e4d"
      },
      "source": [
        "import pandas as pd\n",
        "names = ['Bob','Jessica','Mary','John', 'Mel','Sam','Cathy','Henry','Lloyd'] \n",
        "grades = [76,95,77,78,99,84,79,100,73] \n",
        "bs = [1,1,0,0,1,1,1,0,1] \n",
        "ms = [2,1,0,0,0,1,1,0,0] \n",
        "phd = [0,1,0,0,0,2,1,0,0] \n",
        "GradeList = zip(names,grades,bs,ms,phd) \n",
        "df = pd.DataFrame(data=GradeList, columns=['Names','Grades','BS','MS','PhD']) \n",
        "df.loc[df['MS']>0]['Grades'].mean()"
      ],
      "execution_count": null,
      "outputs": [
        {
          "output_type": "execute_result",
          "data": {
            "text/plain": [
              "83.5"
            ]
          },
          "metadata": {
            "tags": []
          },
          "execution_count": 14
        }
      ]
    },
    {
      "cell_type": "markdown",
      "metadata": {
        "id": "UzgVbpOrcElX"
      },
      "source": [
        "# **Ordenamiento de datos**"
      ]
    },
    {
      "cell_type": "code",
      "metadata": {
        "id": "xeGLuQtjcImE",
        "colab": {
          "base_uri": "https://localhost:8080/",
          "height": 204
        },
        "outputId": "8a37f7a7-ce9e-4574-8143-73b01890c8db"
      },
      "source": [
        "import pandas as pd\n",
        "Location = \"/content/drive/My Drive/Colab Notebooks/datasets/gradedata.csv\"\n",
        "\n",
        "df = pd.read_csv(Location)\n",
        "df.head()"
      ],
      "execution_count": null,
      "outputs": [
        {
          "output_type": "execute_result",
          "data": {
            "text/html": [
              "<div>\n",
              "<style scoped>\n",
              "    .dataframe tbody tr th:only-of-type {\n",
              "        vertical-align: middle;\n",
              "    }\n",
              "\n",
              "    .dataframe tbody tr th {\n",
              "        vertical-align: top;\n",
              "    }\n",
              "\n",
              "    .dataframe thead th {\n",
              "        text-align: right;\n",
              "    }\n",
              "</style>\n",
              "<table border=\"1\" class=\"dataframe\">\n",
              "  <thead>\n",
              "    <tr style=\"text-align: right;\">\n",
              "      <th></th>\n",
              "      <th>fname</th>\n",
              "      <th>lname</th>\n",
              "      <th>gender</th>\n",
              "      <th>age</th>\n",
              "      <th>exercise</th>\n",
              "      <th>hours</th>\n",
              "      <th>grade</th>\n",
              "      <th>address</th>\n",
              "    </tr>\n",
              "  </thead>\n",
              "  <tbody>\n",
              "    <tr>\n",
              "      <th>0</th>\n",
              "      <td>Marcia</td>\n",
              "      <td>Pugh</td>\n",
              "      <td>female</td>\n",
              "      <td>17</td>\n",
              "      <td>3</td>\n",
              "      <td>10</td>\n",
              "      <td>82.4</td>\n",
              "      <td>9253 Richardson Road, Matawan, NJ 07747</td>\n",
              "    </tr>\n",
              "    <tr>\n",
              "      <th>1</th>\n",
              "      <td>Kadeem</td>\n",
              "      <td>Morrison</td>\n",
              "      <td>male</td>\n",
              "      <td>18</td>\n",
              "      <td>4</td>\n",
              "      <td>4</td>\n",
              "      <td>78.2</td>\n",
              "      <td>33 Spring Dr., Taunton, MA 02780</td>\n",
              "    </tr>\n",
              "    <tr>\n",
              "      <th>2</th>\n",
              "      <td>Nash</td>\n",
              "      <td>Powell</td>\n",
              "      <td>male</td>\n",
              "      <td>18</td>\n",
              "      <td>5</td>\n",
              "      <td>9</td>\n",
              "      <td>79.3</td>\n",
              "      <td>41 Hill Avenue, Mentor, OH 44060</td>\n",
              "    </tr>\n",
              "    <tr>\n",
              "      <th>3</th>\n",
              "      <td>Noelani</td>\n",
              "      <td>Wagner</td>\n",
              "      <td>female</td>\n",
              "      <td>14</td>\n",
              "      <td>2</td>\n",
              "      <td>7</td>\n",
              "      <td>83.2</td>\n",
              "      <td>8839 Marshall St., Miami, FL 33125</td>\n",
              "    </tr>\n",
              "    <tr>\n",
              "      <th>4</th>\n",
              "      <td>Noelani</td>\n",
              "      <td>Cherry</td>\n",
              "      <td>female</td>\n",
              "      <td>18</td>\n",
              "      <td>4</td>\n",
              "      <td>15</td>\n",
              "      <td>87.4</td>\n",
              "      <td>8304 Charles Rd., Lewis Center, OH 43035</td>\n",
              "    </tr>\n",
              "  </tbody>\n",
              "</table>\n",
              "</div>"
            ],
            "text/plain": [
              "     fname     lname  ... grade                                   address\n",
              "0   Marcia      Pugh  ...  82.4   9253 Richardson Road, Matawan, NJ 07747\n",
              "1   Kadeem  Morrison  ...  78.2          33 Spring Dr., Taunton, MA 02780\n",
              "2     Nash    Powell  ...  79.3          41 Hill Avenue, Mentor, OH 44060\n",
              "3  Noelani    Wagner  ...  83.2        8839 Marshall St., Miami, FL 33125\n",
              "4  Noelani    Cherry  ...  87.4  8304 Charles Rd., Lewis Center, OH 43035\n",
              "\n",
              "[5 rows x 8 columns]"
            ]
          },
          "metadata": {
            "tags": []
          },
          "execution_count": 10
        }
      ]
    },
    {
      "cell_type": "code",
      "metadata": {
        "id": "QimUgQEkcjEV",
        "colab": {
          "base_uri": "https://localhost:8080/",
          "height": 204
        },
        "outputId": "d985d5e6-b15f-4be8-d707-98e0fd733356"
      },
      "source": [
        "df = df.sort_values(by='age', ascending=0)\n",
        "df.head()"
      ],
      "execution_count": null,
      "outputs": [
        {
          "output_type": "execute_result",
          "data": {
            "text/html": [
              "<div>\n",
              "<style scoped>\n",
              "    .dataframe tbody tr th:only-of-type {\n",
              "        vertical-align: middle;\n",
              "    }\n",
              "\n",
              "    .dataframe tbody tr th {\n",
              "        vertical-align: top;\n",
              "    }\n",
              "\n",
              "    .dataframe thead th {\n",
              "        text-align: right;\n",
              "    }\n",
              "</style>\n",
              "<table border=\"1\" class=\"dataframe\">\n",
              "  <thead>\n",
              "    <tr style=\"text-align: right;\">\n",
              "      <th></th>\n",
              "      <th>fname</th>\n",
              "      <th>lname</th>\n",
              "      <th>gender</th>\n",
              "      <th>age</th>\n",
              "      <th>exercise</th>\n",
              "      <th>hours</th>\n",
              "      <th>grade</th>\n",
              "      <th>address</th>\n",
              "    </tr>\n",
              "  </thead>\n",
              "  <tbody>\n",
              "    <tr>\n",
              "      <th>1000</th>\n",
              "      <td>Hanna</td>\n",
              "      <td>Mooney</td>\n",
              "      <td>female</td>\n",
              "      <td>19</td>\n",
              "      <td>2</td>\n",
              "      <td>10</td>\n",
              "      <td>88.8</td>\n",
              "      <td>8293 SW. Cedar Swamp Lane, Union, NJ 07083</td>\n",
              "    </tr>\n",
              "    <tr>\n",
              "      <th>902</th>\n",
              "      <td>Steven</td>\n",
              "      <td>Graham</td>\n",
              "      <td>male</td>\n",
              "      <td>19</td>\n",
              "      <td>4</td>\n",
              "      <td>17</td>\n",
              "      <td>95.1</td>\n",
              "      <td>90 Grove St., Camas, WA 98607</td>\n",
              "    </tr>\n",
              "    <tr>\n",
              "      <th>818</th>\n",
              "      <td>Colette</td>\n",
              "      <td>Rojas</td>\n",
              "      <td>female</td>\n",
              "      <td>19</td>\n",
              "      <td>4</td>\n",
              "      <td>6</td>\n",
              "      <td>73.3</td>\n",
              "      <td>17 Pin Oak Street, Villa Park, IL 60181</td>\n",
              "    </tr>\n",
              "    <tr>\n",
              "      <th>822</th>\n",
              "      <td>Rinah</td>\n",
              "      <td>Jacobson</td>\n",
              "      <td>female</td>\n",
              "      <td>19</td>\n",
              "      <td>1</td>\n",
              "      <td>7</td>\n",
              "      <td>80.8</td>\n",
              "      <td>737 Amherst Court, Amsterdam, NY 12010</td>\n",
              "    </tr>\n",
              "    <tr>\n",
              "      <th>826</th>\n",
              "      <td>Hayes</td>\n",
              "      <td>Wilkinson</td>\n",
              "      <td>male</td>\n",
              "      <td>19</td>\n",
              "      <td>5</td>\n",
              "      <td>3</td>\n",
              "      <td>76.0</td>\n",
              "      <td>350 Temple Court, Mason City, IA 50401</td>\n",
              "    </tr>\n",
              "  </tbody>\n",
              "</table>\n",
              "</div>"
            ],
            "text/plain": [
              "        fname      lname  ... grade                                     address\n",
              "1000    Hanna     Mooney  ...  88.8  8293 SW. Cedar Swamp Lane, Union, NJ 07083\n",
              "902    Steven     Graham  ...  95.1               90 Grove St., Camas, WA 98607\n",
              "818   Colette      Rojas  ...  73.3     17 Pin Oak Street, Villa Park, IL 60181\n",
              "822     Rinah   Jacobson  ...  80.8      737 Amherst Court, Amsterdam, NY 12010\n",
              "826     Hayes  Wilkinson  ...  76.0      350 Temple Court, Mason City, IA 50401\n",
              "\n",
              "[5 rows x 8 columns]"
            ]
          },
          "metadata": {
            "tags": []
          },
          "execution_count": 11
        }
      ]
    },
    {
      "cell_type": "code",
      "metadata": {
        "id": "p5gnS651cr4_",
        "colab": {
          "base_uri": "https://localhost:8080/",
          "height": 204
        },
        "outputId": "f1303d80-6648-47d9-a5fc-275b227008de"
      },
      "source": [
        "df = df.sort_values(by=['grade', 'age'],\n",
        "ascending=[True, True])\n",
        "df.head()"
      ],
      "execution_count": null,
      "outputs": [
        {
          "output_type": "execute_result",
          "data": {
            "text/html": [
              "<div>\n",
              "<style scoped>\n",
              "    .dataframe tbody tr th:only-of-type {\n",
              "        vertical-align: middle;\n",
              "    }\n",
              "\n",
              "    .dataframe tbody tr th {\n",
              "        vertical-align: top;\n",
              "    }\n",
              "\n",
              "    .dataframe thead th {\n",
              "        text-align: right;\n",
              "    }\n",
              "</style>\n",
              "<table border=\"1\" class=\"dataframe\">\n",
              "  <thead>\n",
              "    <tr style=\"text-align: right;\">\n",
              "      <th></th>\n",
              "      <th>fname</th>\n",
              "      <th>lname</th>\n",
              "      <th>gender</th>\n",
              "      <th>age</th>\n",
              "      <th>exercise</th>\n",
              "      <th>hours</th>\n",
              "      <th>grade</th>\n",
              "      <th>address</th>\n",
              "    </tr>\n",
              "  </thead>\n",
              "  <tbody>\n",
              "    <tr>\n",
              "      <th>664</th>\n",
              "      <td>Alika</td>\n",
              "      <td>Poole</td>\n",
              "      <td>female</td>\n",
              "      <td>19</td>\n",
              "      <td>2</td>\n",
              "      <td>16</td>\n",
              "      <td>32.0</td>\n",
              "      <td>9282 Purple Finch Lane, Lexington, NC 27292</td>\n",
              "    </tr>\n",
              "    <tr>\n",
              "      <th>972</th>\n",
              "      <td>Keegan</td>\n",
              "      <td>Rasmussen</td>\n",
              "      <td>male</td>\n",
              "      <td>19</td>\n",
              "      <td>4</td>\n",
              "      <td>3</td>\n",
              "      <td>43.0</td>\n",
              "      <td>876 East Pilgrim Street, Chelmsford, MA 01824</td>\n",
              "    </tr>\n",
              "    <tr>\n",
              "      <th>1870</th>\n",
              "      <td>Levi</td>\n",
              "      <td>Coleman</td>\n",
              "      <td>male</td>\n",
              "      <td>19</td>\n",
              "      <td>3</td>\n",
              "      <td>3</td>\n",
              "      <td>55.9</td>\n",
              "      <td>9453 Laurel Street, Jersey City, NJ 07302</td>\n",
              "    </tr>\n",
              "    <tr>\n",
              "      <th>1910</th>\n",
              "      <td>Gail</td>\n",
              "      <td>Mcneil</td>\n",
              "      <td>female</td>\n",
              "      <td>17</td>\n",
              "      <td>2</td>\n",
              "      <td>3</td>\n",
              "      <td>56.1</td>\n",
              "      <td>8409A Spruce St., Fishers, IN 46037</td>\n",
              "    </tr>\n",
              "    <tr>\n",
              "      <th>1494</th>\n",
              "      <td>Jenna</td>\n",
              "      <td>Wagner</td>\n",
              "      <td>female</td>\n",
              "      <td>16</td>\n",
              "      <td>1</td>\n",
              "      <td>3</td>\n",
              "      <td>56.3</td>\n",
              "      <td>8829 Shore Dr., Hopewell Junction, NY 12533</td>\n",
              "    </tr>\n",
              "  </tbody>\n",
              "</table>\n",
              "</div>"
            ],
            "text/plain": [
              "       fname      lname  ... grade                                        address\n",
              "664    Alika      Poole  ...  32.0    9282 Purple Finch Lane, Lexington, NC 27292\n",
              "972   Keegan  Rasmussen  ...  43.0  876 East Pilgrim Street, Chelmsford, MA 01824\n",
              "1870    Levi    Coleman  ...  55.9      9453 Laurel Street, Jersey City, NJ 07302\n",
              "1910    Gail     Mcneil  ...  56.1            8409A Spruce St., Fishers, IN 46037\n",
              "1494   Jenna     Wagner  ...  56.3    8829 Shore Dr., Hopewell Junction, NY 12533\n",
              "\n",
              "[5 rows x 8 columns]"
            ]
          },
          "metadata": {
            "tags": []
          },
          "execution_count": 28
        }
      ]
    },
    {
      "cell_type": "markdown",
      "metadata": {
        "id": "emyNaAsDczvI"
      },
      "source": [
        "**Your Turn**\n",
        "Can you sort the dataframe to order it by name, age, and then grade? ascending"
      ]
    },
    {
      "cell_type": "code",
      "metadata": {
        "id": "mX1ZUwfJva3Z",
        "colab": {
          "base_uri": "https://localhost:8080/",
          "height": 419
        },
        "outputId": "da351d34-7af4-47de-e1fc-b6e44e2eea92"
      },
      "source": [
        "import pandas as pd\n",
        "Location = \"/content/drive/My Drive/Colab Notebooks/datasets/gradedata.csv\"\n",
        "\n",
        "df = pd.read_csv(Location)\n",
        "df.sort_values(by=['fname','age','grade'],ascending=True)"
      ],
      "execution_count": null,
      "outputs": [
        {
          "output_type": "execute_result",
          "data": {
            "text/html": [
              "<div>\n",
              "<style scoped>\n",
              "    .dataframe tbody tr th:only-of-type {\n",
              "        vertical-align: middle;\n",
              "    }\n",
              "\n",
              "    .dataframe tbody tr th {\n",
              "        vertical-align: top;\n",
              "    }\n",
              "\n",
              "    .dataframe thead th {\n",
              "        text-align: right;\n",
              "    }\n",
              "</style>\n",
              "<table border=\"1\" class=\"dataframe\">\n",
              "  <thead>\n",
              "    <tr style=\"text-align: right;\">\n",
              "      <th></th>\n",
              "      <th>fname</th>\n",
              "      <th>lname</th>\n",
              "      <th>gender</th>\n",
              "      <th>age</th>\n",
              "      <th>exercise</th>\n",
              "      <th>hours</th>\n",
              "      <th>grade</th>\n",
              "      <th>address</th>\n",
              "    </tr>\n",
              "  </thead>\n",
              "  <tbody>\n",
              "    <tr>\n",
              "      <th>435</th>\n",
              "      <td>Aaron</td>\n",
              "      <td>Knowles</td>\n",
              "      <td>male</td>\n",
              "      <td>16</td>\n",
              "      <td>4</td>\n",
              "      <td>11</td>\n",
              "      <td>88.7</td>\n",
              "      <td>596 Warren Drive, Brunswick, GA 31525</td>\n",
              "    </tr>\n",
              "    <tr>\n",
              "      <th>721</th>\n",
              "      <td>Aaron</td>\n",
              "      <td>Salas</td>\n",
              "      <td>male</td>\n",
              "      <td>19</td>\n",
              "      <td>4</td>\n",
              "      <td>10</td>\n",
              "      <td>86.7</td>\n",
              "      <td>642 Kirkland Rd., Eden Prairie, MN 55347</td>\n",
              "    </tr>\n",
              "    <tr>\n",
              "      <th>340</th>\n",
              "      <td>Abbot</td>\n",
              "      <td>Hall</td>\n",
              "      <td>male</td>\n",
              "      <td>16</td>\n",
              "      <td>4</td>\n",
              "      <td>3</td>\n",
              "      <td>58.9</td>\n",
              "      <td>84 Rock Creek Lane, Durham, NC 27703</td>\n",
              "    </tr>\n",
              "    <tr>\n",
              "      <th>1690</th>\n",
              "      <td>Abbot</td>\n",
              "      <td>Kramer</td>\n",
              "      <td>male</td>\n",
              "      <td>16</td>\n",
              "      <td>2</td>\n",
              "      <td>8</td>\n",
              "      <td>81.0</td>\n",
              "      <td>3 Golden Star Rd., Lake Jackson, TX 77566</td>\n",
              "    </tr>\n",
              "    <tr>\n",
              "      <th>1901</th>\n",
              "      <td>Abbot</td>\n",
              "      <td>Kinney</td>\n",
              "      <td>male</td>\n",
              "      <td>16</td>\n",
              "      <td>4</td>\n",
              "      <td>18</td>\n",
              "      <td>87.5</td>\n",
              "      <td>643 Wakehurst St., Norman, OK 73072</td>\n",
              "    </tr>\n",
              "    <tr>\n",
              "      <th>...</th>\n",
              "      <td>...</td>\n",
              "      <td>...</td>\n",
              "      <td>...</td>\n",
              "      <td>...</td>\n",
              "      <td>...</td>\n",
              "      <td>...</td>\n",
              "      <td>...</td>\n",
              "      <td>...</td>\n",
              "    </tr>\n",
              "    <tr>\n",
              "      <th>341</th>\n",
              "      <td>Zia</td>\n",
              "      <td>Ratliff</td>\n",
              "      <td>female</td>\n",
              "      <td>19</td>\n",
              "      <td>2</td>\n",
              "      <td>19</td>\n",
              "      <td>88.4</td>\n",
              "      <td>654 S. North St., Springfield Gardens, NY 11413</td>\n",
              "    </tr>\n",
              "    <tr>\n",
              "      <th>1915</th>\n",
              "      <td>Zoe</td>\n",
              "      <td>Collins</td>\n",
              "      <td>female</td>\n",
              "      <td>16</td>\n",
              "      <td>2</td>\n",
              "      <td>15</td>\n",
              "      <td>83.7</td>\n",
              "      <td>235 Mechanic St., Amsterdam, NY 12010</td>\n",
              "    </tr>\n",
              "    <tr>\n",
              "      <th>510</th>\n",
              "      <td>Zorita</td>\n",
              "      <td>Oliver</td>\n",
              "      <td>female</td>\n",
              "      <td>16</td>\n",
              "      <td>2</td>\n",
              "      <td>12</td>\n",
              "      <td>93.1</td>\n",
              "      <td>691 Main Ave., Twin Falls, ID 83301</td>\n",
              "    </tr>\n",
              "    <tr>\n",
              "      <th>1247</th>\n",
              "      <td>Zorita</td>\n",
              "      <td>Ashley</td>\n",
              "      <td>female</td>\n",
              "      <td>19</td>\n",
              "      <td>1</td>\n",
              "      <td>13</td>\n",
              "      <td>80.4</td>\n",
              "      <td>362 Jennings Street, Natchez, MS 39120</td>\n",
              "    </tr>\n",
              "    <tr>\n",
              "      <th>1447</th>\n",
              "      <td>Zorita</td>\n",
              "      <td>Benson</td>\n",
              "      <td>female</td>\n",
              "      <td>19</td>\n",
              "      <td>3</td>\n",
              "      <td>12</td>\n",
              "      <td>85.0</td>\n",
              "      <td>64 Lower River Ave., Shepherdsville, KY 40165</td>\n",
              "    </tr>\n",
              "  </tbody>\n",
              "</table>\n",
              "<p>2000 rows × 8 columns</p>\n",
              "</div>"
            ],
            "text/plain": [
              "       fname    lname  ... grade                                          address\n",
              "435    Aaron  Knowles  ...  88.7            596 Warren Drive, Brunswick, GA 31525\n",
              "721    Aaron    Salas  ...  86.7         642 Kirkland Rd., Eden Prairie, MN 55347\n",
              "340    Abbot     Hall  ...  58.9             84 Rock Creek Lane, Durham, NC 27703\n",
              "1690   Abbot   Kramer  ...  81.0        3 Golden Star Rd., Lake Jackson, TX 77566\n",
              "1901   Abbot   Kinney  ...  87.5              643 Wakehurst St., Norman, OK 73072\n",
              "...      ...      ...  ...   ...                                              ...\n",
              "341      Zia  Ratliff  ...  88.4  654 S. North St., Springfield Gardens, NY 11413\n",
              "1915     Zoe  Collins  ...  83.7            235 Mechanic St., Amsterdam, NY 12010\n",
              "510   Zorita   Oliver  ...  93.1              691 Main Ave., Twin Falls, ID 83301\n",
              "1247  Zorita   Ashley  ...  80.4           362 Jennings Street, Natchez, MS 39120\n",
              "1447  Zorita   Benson  ...  85.0    64 Lower River Ave., Shepherdsville, KY 40165\n",
              "\n",
              "[2000 rows x 8 columns]"
            ]
          },
          "metadata": {
            "tags": []
          },
          "execution_count": 19
        }
      ]
    },
    {
      "cell_type": "markdown",
      "metadata": {
        "id": "QQiHuGLkdQbV"
      },
      "source": [
        "# **Correlación**"
      ]
    },
    {
      "cell_type": "code",
      "metadata": {
        "id": "bZ3WHfGgdTky",
        "colab": {
          "base_uri": "https://localhost:8080/",
          "height": 204
        },
        "outputId": "b99d3f09-3624-4825-fe4f-b78d27df26e7"
      },
      "source": [
        "import pandas as pd\n",
        "Location = \"/content/drive/My Drive/Colab Notebooks/datasets/gradedata.csv\"\n",
        "\n",
        "df = pd.read_csv(Location)\n",
        "\n",
        "df.head()"
      ],
      "execution_count": null,
      "outputs": [
        {
          "output_type": "execute_result",
          "data": {
            "text/html": [
              "<div>\n",
              "<style scoped>\n",
              "    .dataframe tbody tr th:only-of-type {\n",
              "        vertical-align: middle;\n",
              "    }\n",
              "\n",
              "    .dataframe tbody tr th {\n",
              "        vertical-align: top;\n",
              "    }\n",
              "\n",
              "    .dataframe thead th {\n",
              "        text-align: right;\n",
              "    }\n",
              "</style>\n",
              "<table border=\"1\" class=\"dataframe\">\n",
              "  <thead>\n",
              "    <tr style=\"text-align: right;\">\n",
              "      <th></th>\n",
              "      <th>fname</th>\n",
              "      <th>lname</th>\n",
              "      <th>gender</th>\n",
              "      <th>age</th>\n",
              "      <th>exercise</th>\n",
              "      <th>hours</th>\n",
              "      <th>grade</th>\n",
              "      <th>address</th>\n",
              "    </tr>\n",
              "  </thead>\n",
              "  <tbody>\n",
              "    <tr>\n",
              "      <th>0</th>\n",
              "      <td>Marcia</td>\n",
              "      <td>Pugh</td>\n",
              "      <td>female</td>\n",
              "      <td>17</td>\n",
              "      <td>3</td>\n",
              "      <td>10</td>\n",
              "      <td>82.4</td>\n",
              "      <td>9253 Richardson Road, Matawan, NJ 07747</td>\n",
              "    </tr>\n",
              "    <tr>\n",
              "      <th>1</th>\n",
              "      <td>Kadeem</td>\n",
              "      <td>Morrison</td>\n",
              "      <td>male</td>\n",
              "      <td>18</td>\n",
              "      <td>4</td>\n",
              "      <td>4</td>\n",
              "      <td>78.2</td>\n",
              "      <td>33 Spring Dr., Taunton, MA 02780</td>\n",
              "    </tr>\n",
              "    <tr>\n",
              "      <th>2</th>\n",
              "      <td>Nash</td>\n",
              "      <td>Powell</td>\n",
              "      <td>male</td>\n",
              "      <td>18</td>\n",
              "      <td>5</td>\n",
              "      <td>9</td>\n",
              "      <td>79.3</td>\n",
              "      <td>41 Hill Avenue, Mentor, OH 44060</td>\n",
              "    </tr>\n",
              "    <tr>\n",
              "      <th>3</th>\n",
              "      <td>Noelani</td>\n",
              "      <td>Wagner</td>\n",
              "      <td>female</td>\n",
              "      <td>14</td>\n",
              "      <td>2</td>\n",
              "      <td>7</td>\n",
              "      <td>83.2</td>\n",
              "      <td>8839 Marshall St., Miami, FL 33125</td>\n",
              "    </tr>\n",
              "    <tr>\n",
              "      <th>4</th>\n",
              "      <td>Noelani</td>\n",
              "      <td>Cherry</td>\n",
              "      <td>female</td>\n",
              "      <td>18</td>\n",
              "      <td>4</td>\n",
              "      <td>15</td>\n",
              "      <td>87.4</td>\n",
              "      <td>8304 Charles Rd., Lewis Center, OH 43035</td>\n",
              "    </tr>\n",
              "  </tbody>\n",
              "</table>\n",
              "</div>"
            ],
            "text/plain": [
              "     fname     lname  ... grade                                   address\n",
              "0   Marcia      Pugh  ...  82.4   9253 Richardson Road, Matawan, NJ 07747\n",
              "1   Kadeem  Morrison  ...  78.2          33 Spring Dr., Taunton, MA 02780\n",
              "2     Nash    Powell  ...  79.3          41 Hill Avenue, Mentor, OH 44060\n",
              "3  Noelani    Wagner  ...  83.2        8839 Marshall St., Miami, FL 33125\n",
              "4  Noelani    Cherry  ...  87.4  8304 Charles Rd., Lewis Center, OH 43035\n",
              "\n",
              "[5 rows x 8 columns]"
            ]
          },
          "metadata": {
            "tags": []
          },
          "execution_count": 2
        }
      ]
    },
    {
      "cell_type": "code",
      "metadata": {
        "id": "5Cyb55uJd5RF",
        "colab": {
          "base_uri": "https://localhost:8080/",
          "height": 173
        },
        "outputId": "dc3dc6a8-a0ca-4ea0-a076-a895274e94f7"
      },
      "source": [
        "df.corr()"
      ],
      "execution_count": null,
      "outputs": [
        {
          "output_type": "execute_result",
          "data": {
            "text/html": [
              "<div>\n",
              "<style scoped>\n",
              "    .dataframe tbody tr th:only-of-type {\n",
              "        vertical-align: middle;\n",
              "    }\n",
              "\n",
              "    .dataframe tbody tr th {\n",
              "        vertical-align: top;\n",
              "    }\n",
              "\n",
              "    .dataframe thead th {\n",
              "        text-align: right;\n",
              "    }\n",
              "</style>\n",
              "<table border=\"1\" class=\"dataframe\">\n",
              "  <thead>\n",
              "    <tr style=\"text-align: right;\">\n",
              "      <th></th>\n",
              "      <th>age</th>\n",
              "      <th>exercise</th>\n",
              "      <th>hours</th>\n",
              "      <th>grade</th>\n",
              "    </tr>\n",
              "  </thead>\n",
              "  <tbody>\n",
              "    <tr>\n",
              "      <th>age</th>\n",
              "      <td>1.000000</td>\n",
              "      <td>-0.003643</td>\n",
              "      <td>-0.017467</td>\n",
              "      <td>-0.007580</td>\n",
              "    </tr>\n",
              "    <tr>\n",
              "      <th>exercise</th>\n",
              "      <td>-0.003643</td>\n",
              "      <td>1.000000</td>\n",
              "      <td>0.021105</td>\n",
              "      <td>0.161286</td>\n",
              "    </tr>\n",
              "    <tr>\n",
              "      <th>hours</th>\n",
              "      <td>-0.017467</td>\n",
              "      <td>0.021105</td>\n",
              "      <td>1.000000</td>\n",
              "      <td>0.801955</td>\n",
              "    </tr>\n",
              "    <tr>\n",
              "      <th>grade</th>\n",
              "      <td>-0.007580</td>\n",
              "      <td>0.161286</td>\n",
              "      <td>0.801955</td>\n",
              "      <td>1.000000</td>\n",
              "    </tr>\n",
              "  </tbody>\n",
              "</table>\n",
              "</div>"
            ],
            "text/plain": [
              "               age  exercise     hours     grade\n",
              "age       1.000000 -0.003643 -0.017467 -0.007580\n",
              "exercise -0.003643  1.000000  0.021105  0.161286\n",
              "hours    -0.017467  0.021105  1.000000  0.801955\n",
              "grade    -0.007580  0.161286  0.801955  1.000000"
            ]
          },
          "metadata": {
            "tags": []
          },
          "execution_count": 31
        }
      ]
    },
    {
      "cell_type": "markdown",
      "metadata": {
        "id": "plFfG65deEFm"
      },
      "source": [
        "**Your Turn**\n",
        "Load the data from the code in **Listing 4-15** and find the correlations.\n",
        "**Listing 4-15**. Load Data from CSV\n",
        "import pandas as pd\n",
        "Location = \"datasets/tamiami.csv\""
      ]
    },
    {
      "cell_type": "code",
      "metadata": {
        "id": "4lP94xhQzu8Z",
        "colab": {
          "base_uri": "https://localhost:8080/",
          "height": 320
        },
        "outputId": "33309991-0700-4c9d-8fde-a27344f256de"
      },
      "source": [
        "import pandas as pd\n",
        "Location = \"/content/drive/My Drive/Colab Notebooks/datasets/tamiami.csv\"\n",
        "\n",
        "df = pd.read_csv(Location)\n",
        "df.corr()"
      ],
      "execution_count": null,
      "outputs": [
        {
          "output_type": "execute_result",
          "data": {
            "text/html": [
              "<div>\n",
              "<style scoped>\n",
              "    .dataframe tbody tr th:only-of-type {\n",
              "        vertical-align: middle;\n",
              "    }\n",
              "\n",
              "    .dataframe tbody tr th {\n",
              "        vertical-align: top;\n",
              "    }\n",
              "\n",
              "    .dataframe thead th {\n",
              "        text-align: right;\n",
              "    }\n",
              "</style>\n",
              "<table border=\"1\" class=\"dataframe\">\n",
              "  <thead>\n",
              "    <tr style=\"text-align: right;\">\n",
              "      <th></th>\n",
              "      <th>Cart Location</th>\n",
              "      <th>Hot Dog Sales</th>\n",
              "      <th>Employees in Nearby Office Buildings</th>\n",
              "      <th>Num of Nearby Restaurants</th>\n",
              "      <th>Num of Other Food Carts Nearby</th>\n",
              "      <th>Price</th>\n",
              "    </tr>\n",
              "  </thead>\n",
              "  <tbody>\n",
              "    <tr>\n",
              "      <th>Cart Location</th>\n",
              "      <td>1.000000</td>\n",
              "      <td>0.042705</td>\n",
              "      <td>-0.068923</td>\n",
              "      <td>0.049701</td>\n",
              "      <td>0.077219</td>\n",
              "      <td>-0.138444</td>\n",
              "    </tr>\n",
              "    <tr>\n",
              "      <th>Hot Dog Sales</th>\n",
              "      <td>0.042705</td>\n",
              "      <td>1.000000</td>\n",
              "      <td>0.943238</td>\n",
              "      <td>0.913674</td>\n",
              "      <td>-0.919762</td>\n",
              "      <td>-0.966378</td>\n",
              "    </tr>\n",
              "    <tr>\n",
              "      <th>Employees in Nearby Office Buildings</th>\n",
              "      <td>-0.068923</td>\n",
              "      <td>0.943238</td>\n",
              "      <td>1.000000</td>\n",
              "      <td>0.856976</td>\n",
              "      <td>-0.874692</td>\n",
              "      <td>-0.881540</td>\n",
              "    </tr>\n",
              "    <tr>\n",
              "      <th>Num of Nearby Restaurants</th>\n",
              "      <td>0.049701</td>\n",
              "      <td>0.913674</td>\n",
              "      <td>0.856976</td>\n",
              "      <td>1.000000</td>\n",
              "      <td>-0.761793</td>\n",
              "      <td>-0.933951</td>\n",
              "    </tr>\n",
              "    <tr>\n",
              "      <th>Num of Other Food Carts Nearby</th>\n",
              "      <td>0.077219</td>\n",
              "      <td>-0.919762</td>\n",
              "      <td>-0.874692</td>\n",
              "      <td>-0.761793</td>\n",
              "      <td>1.000000</td>\n",
              "      <td>0.860154</td>\n",
              "    </tr>\n",
              "    <tr>\n",
              "      <th>Price</th>\n",
              "      <td>-0.138444</td>\n",
              "      <td>-0.966378</td>\n",
              "      <td>-0.881540</td>\n",
              "      <td>-0.933951</td>\n",
              "      <td>0.860154</td>\n",
              "      <td>1.000000</td>\n",
              "    </tr>\n",
              "  </tbody>\n",
              "</table>\n",
              "</div>"
            ],
            "text/plain": [
              "                                      Cart Location  ...     Price\n",
              "Cart Location                              1.000000  ... -0.138444\n",
              "Hot Dog Sales                              0.042705  ... -0.966378\n",
              "Employees in Nearby Office Buildings      -0.068923  ... -0.881540\n",
              "Num of Nearby Restaurants                  0.049701  ... -0.933951\n",
              "Num of Other Food Carts Nearby             0.077219  ...  0.860154\n",
              "Price                                     -0.138444  ...  1.000000\n",
              "\n",
              "[6 rows x 6 columns]"
            ]
          },
          "metadata": {
            "tags": []
          },
          "execution_count": 22
        }
      ]
    },
    {
      "cell_type": "markdown",
      "metadata": {
        "id": "EODfKQzreWRe"
      },
      "source": [
        "# **Regresión**"
      ]
    },
    {
      "cell_type": "code",
      "metadata": {
        "id": "kGew5i2heZBa",
        "colab": {
          "base_uri": "https://localhost:8080/",
          "height": 204
        },
        "outputId": "0118ba7f-0de7-47a3-dab0-a0622b98fcd6"
      },
      "source": [
        "import pandas as pd\n",
        "Location = \"/content/drive/My Drive/Colab Notebooks/datasets/gradedata.csv\"\n",
        "\n",
        "df = pd.read_csv(Location)\n",
        "df.head()"
      ],
      "execution_count": null,
      "outputs": [
        {
          "output_type": "execute_result",
          "data": {
            "text/html": [
              "<div>\n",
              "<style scoped>\n",
              "    .dataframe tbody tr th:only-of-type {\n",
              "        vertical-align: middle;\n",
              "    }\n",
              "\n",
              "    .dataframe tbody tr th {\n",
              "        vertical-align: top;\n",
              "    }\n",
              "\n",
              "    .dataframe thead th {\n",
              "        text-align: right;\n",
              "    }\n",
              "</style>\n",
              "<table border=\"1\" class=\"dataframe\">\n",
              "  <thead>\n",
              "    <tr style=\"text-align: right;\">\n",
              "      <th></th>\n",
              "      <th>fname</th>\n",
              "      <th>lname</th>\n",
              "      <th>gender</th>\n",
              "      <th>age</th>\n",
              "      <th>exercise</th>\n",
              "      <th>hours</th>\n",
              "      <th>grade</th>\n",
              "      <th>address</th>\n",
              "    </tr>\n",
              "  </thead>\n",
              "  <tbody>\n",
              "    <tr>\n",
              "      <th>0</th>\n",
              "      <td>Marcia</td>\n",
              "      <td>Pugh</td>\n",
              "      <td>female</td>\n",
              "      <td>17</td>\n",
              "      <td>3</td>\n",
              "      <td>10</td>\n",
              "      <td>82.4</td>\n",
              "      <td>9253 Richardson Road, Matawan, NJ 07747</td>\n",
              "    </tr>\n",
              "    <tr>\n",
              "      <th>1</th>\n",
              "      <td>Kadeem</td>\n",
              "      <td>Morrison</td>\n",
              "      <td>male</td>\n",
              "      <td>18</td>\n",
              "      <td>4</td>\n",
              "      <td>4</td>\n",
              "      <td>78.2</td>\n",
              "      <td>33 Spring Dr., Taunton, MA 02780</td>\n",
              "    </tr>\n",
              "    <tr>\n",
              "      <th>2</th>\n",
              "      <td>Nash</td>\n",
              "      <td>Powell</td>\n",
              "      <td>male</td>\n",
              "      <td>18</td>\n",
              "      <td>5</td>\n",
              "      <td>9</td>\n",
              "      <td>79.3</td>\n",
              "      <td>41 Hill Avenue, Mentor, OH 44060</td>\n",
              "    </tr>\n",
              "    <tr>\n",
              "      <th>3</th>\n",
              "      <td>Noelani</td>\n",
              "      <td>Wagner</td>\n",
              "      <td>female</td>\n",
              "      <td>14</td>\n",
              "      <td>2</td>\n",
              "      <td>7</td>\n",
              "      <td>83.2</td>\n",
              "      <td>8839 Marshall St., Miami, FL 33125</td>\n",
              "    </tr>\n",
              "    <tr>\n",
              "      <th>4</th>\n",
              "      <td>Noelani</td>\n",
              "      <td>Cherry</td>\n",
              "      <td>female</td>\n",
              "      <td>18</td>\n",
              "      <td>4</td>\n",
              "      <td>15</td>\n",
              "      <td>87.4</td>\n",
              "      <td>8304 Charles Rd., Lewis Center, OH 43035</td>\n",
              "    </tr>\n",
              "  </tbody>\n",
              "</table>\n",
              "</div>"
            ],
            "text/plain": [
              "     fname     lname  ... grade                                   address\n",
              "0   Marcia      Pugh  ...  82.4   9253 Richardson Road, Matawan, NJ 07747\n",
              "1   Kadeem  Morrison  ...  78.2          33 Spring Dr., Taunton, MA 02780\n",
              "2     Nash    Powell  ...  79.3          41 Hill Avenue, Mentor, OH 44060\n",
              "3  Noelani    Wagner  ...  83.2        8839 Marshall St., Miami, FL 33125\n",
              "4  Noelani    Cherry  ...  87.4  8304 Charles Rd., Lewis Center, OH 43035\n",
              "\n",
              "[5 rows x 8 columns]"
            ]
          },
          "metadata": {
            "tags": []
          },
          "execution_count": 12
        }
      ]
    },
    {
      "cell_type": "code",
      "metadata": {
        "id": "zuOiXzhIetx4",
        "colab": {
          "base_uri": "https://localhost:8080/",
          "height": 540
        },
        "outputId": "56e45289-456b-4160-bdd7-65a371dd23fd"
      },
      "source": [
        "import statsmodels.formula.api as sm\n",
        "\n",
        "result = sm.ols(formula='grade ~ age + exercise + hours', data=df).fit()\n",
        "result.summary()"
      ],
      "execution_count": null,
      "outputs": [
        {
          "output_type": "stream",
          "text": [
            "/usr/local/lib/python3.6/dist-packages/statsmodels/tools/_testing.py:19: FutureWarning: pandas.util.testing is deprecated. Use the functions in the public API at pandas.testing instead.\n",
            "  import pandas.util.testing as tm\n"
          ],
          "name": "stderr"
        },
        {
          "output_type": "execute_result",
          "data": {
            "text/html": [
              "<table class=\"simpletable\">\n",
              "<caption>OLS Regression Results</caption>\n",
              "<tr>\n",
              "  <th>Dep. Variable:</th>          <td>grade</td>      <th>  R-squared:         </th> <td>   0.664</td> \n",
              "</tr>\n",
              "<tr>\n",
              "  <th>Model:</th>                   <td>OLS</td>       <th>  Adj. R-squared:    </th> <td>   0.664</td> \n",
              "</tr>\n",
              "<tr>\n",
              "  <th>Method:</th>             <td>Least Squares</td>  <th>  F-statistic:       </th> <td>   1315.</td> \n",
              "</tr>\n",
              "<tr>\n",
              "  <th>Date:</th>             <td>Thu, 22 Oct 2020</td> <th>  Prob (F-statistic):</th>  <td>  0.00</td>  \n",
              "</tr>\n",
              "<tr>\n",
              "  <th>Time:</th>                 <td>01:27:00</td>     <th>  Log-Likelihood:    </th> <td> -6300.7</td> \n",
              "</tr>\n",
              "<tr>\n",
              "  <th>No. Observations:</th>      <td>  2000</td>      <th>  AIC:               </th> <td>1.261e+04</td>\n",
              "</tr>\n",
              "<tr>\n",
              "  <th>Df Residuals:</th>          <td>  1996</td>      <th>  BIC:               </th> <td>1.263e+04</td>\n",
              "</tr>\n",
              "<tr>\n",
              "  <th>Df Model:</th>              <td>     3</td>      <th>                     </th>     <td> </td>    \n",
              "</tr>\n",
              "<tr>\n",
              "  <th>Covariance Type:</th>      <td>nonrobust</td>    <th>                     </th>     <td> </td>    \n",
              "</tr>\n",
              "</table>\n",
              "<table class=\"simpletable\">\n",
              "<tr>\n",
              "      <td></td>         <th>coef</th>     <th>std err</th>      <th>t</th>      <th>P>|t|</th>  <th>[0.025</th>    <th>0.975]</th>  \n",
              "</tr>\n",
              "<tr>\n",
              "  <th>Intercept</th> <td>   57.8704</td> <td>    1.321</td> <td>   43.804</td> <td> 0.000</td> <td>   55.279</td> <td>   60.461</td>\n",
              "</tr>\n",
              "<tr>\n",
              "  <th>age</th>       <td>    0.0397</td> <td>    0.075</td> <td>    0.532</td> <td> 0.595</td> <td>   -0.107</td> <td>    0.186</td>\n",
              "</tr>\n",
              "<tr>\n",
              "  <th>exercise</th>  <td>    0.9893</td> <td>    0.089</td> <td>   11.131</td> <td> 0.000</td> <td>    0.815</td> <td>    1.164</td>\n",
              "</tr>\n",
              "<tr>\n",
              "  <th>hours</th>     <td>    1.9165</td> <td>    0.031</td> <td>   61.564</td> <td> 0.000</td> <td>    1.855</td> <td>    1.978</td>\n",
              "</tr>\n",
              "</table>\n",
              "<table class=\"simpletable\">\n",
              "<tr>\n",
              "  <th>Omnibus:</th>       <td>321.187</td> <th>  Durbin-Watson:     </th> <td>   2.047</td>\n",
              "</tr>\n",
              "<tr>\n",
              "  <th>Prob(Omnibus):</th> <td> 0.000</td>  <th>  Jarque-Bera (JB):  </th> <td>2196.187</td>\n",
              "</tr>\n",
              "<tr>\n",
              "  <th>Skew:</th>          <td>-0.567</td>  <th>  Prob(JB):          </th> <td>    0.00</td>\n",
              "</tr>\n",
              "<tr>\n",
              "  <th>Kurtosis:</th>      <td> 8.007</td>  <th>  Cond. No.          </th> <td>    213.</td>\n",
              "</tr>\n",
              "</table><br/><br/>Warnings:<br/>[1] Standard Errors assume that the covariance matrix of the errors is correctly specified."
            ],
            "text/plain": [
              "<class 'statsmodels.iolib.summary.Summary'>\n",
              "\"\"\"\n",
              "                            OLS Regression Results                            \n",
              "==============================================================================\n",
              "Dep. Variable:                  grade   R-squared:                       0.664\n",
              "Model:                            OLS   Adj. R-squared:                  0.664\n",
              "Method:                 Least Squares   F-statistic:                     1315.\n",
              "Date:                Thu, 22 Oct 2020   Prob (F-statistic):               0.00\n",
              "Time:                        01:27:00   Log-Likelihood:                -6300.7\n",
              "No. Observations:                2000   AIC:                         1.261e+04\n",
              "Df Residuals:                    1996   BIC:                         1.263e+04\n",
              "Df Model:                           3                                         \n",
              "Covariance Type:            nonrobust                                         \n",
              "==============================================================================\n",
              "                 coef    std err          t      P>|t|      [0.025      0.975]\n",
              "------------------------------------------------------------------------------\n",
              "Intercept     57.8704      1.321     43.804      0.000      55.279      60.461\n",
              "age            0.0397      0.075      0.532      0.595      -0.107       0.186\n",
              "exercise       0.9893      0.089     11.131      0.000       0.815       1.164\n",
              "hours          1.9165      0.031     61.564      0.000       1.855       1.978\n",
              "==============================================================================\n",
              "Omnibus:                      321.187   Durbin-Watson:                   2.047\n",
              "Prob(Omnibus):                  0.000   Jarque-Bera (JB):             2196.187\n",
              "Skew:                          -0.567   Prob(JB):                         0.00\n",
              "Kurtosis:                       8.007   Cond. No.                         213.\n",
              "==============================================================================\n",
              "\n",
              "Warnings:\n",
              "[1] Standard Errors assume that the covariance matrix of the errors is correctly specified.\n",
              "\"\"\""
            ]
          },
          "metadata": {
            "tags": []
          },
          "execution_count": 13
        }
      ]
    },
    {
      "cell_type": "code",
      "metadata": {
        "id": "UASJtXTegaeH",
        "colab": {
          "base_uri": "https://localhost:8080/",
          "height": 465
        },
        "outputId": "45e5922a-8620-4f36-dc4f-4c55883271e9"
      },
      "source": [
        "import statsmodels.formula.api as sm\n",
        "result = sm.ols(\n",
        "formula='grade ~ exercise + hours',\n",
        "data=df).fit()\n",
        "result.summary()"
      ],
      "execution_count": null,
      "outputs": [
        {
          "output_type": "execute_result",
          "data": {
            "text/html": [
              "<table class=\"simpletable\">\n",
              "<caption>OLS Regression Results</caption>\n",
              "<tr>\n",
              "  <th>Dep. Variable:</th>          <td>grade</td>      <th>  R-squared:         </th> <td>   0.664</td> \n",
              "</tr>\n",
              "<tr>\n",
              "  <th>Model:</th>                   <td>OLS</td>       <th>  Adj. R-squared:    </th> <td>   0.664</td> \n",
              "</tr>\n",
              "<tr>\n",
              "  <th>Method:</th>             <td>Least Squares</td>  <th>  F-statistic:       </th> <td>   1973.</td> \n",
              "</tr>\n",
              "<tr>\n",
              "  <th>Date:</th>             <td>Wed, 28 Oct 2020</td> <th>  Prob (F-statistic):</th>  <td>  0.00</td>  \n",
              "</tr>\n",
              "<tr>\n",
              "  <th>Time:</th>                 <td>22:32:01</td>     <th>  Log-Likelihood:    </th> <td> -6300.8</td> \n",
              "</tr>\n",
              "<tr>\n",
              "  <th>No. Observations:</th>      <td>  2000</td>      <th>  AIC:               </th> <td>1.261e+04</td>\n",
              "</tr>\n",
              "<tr>\n",
              "  <th>Df Residuals:</th>          <td>  1997</td>      <th>  BIC:               </th> <td>1.262e+04</td>\n",
              "</tr>\n",
              "<tr>\n",
              "  <th>Df Model:</th>              <td>     2</td>      <th>                     </th>     <td> </td>    \n",
              "</tr>\n",
              "<tr>\n",
              "  <th>Covariance Type:</th>      <td>nonrobust</td>    <th>                     </th>     <td> </td>    \n",
              "</tr>\n",
              "</table>\n",
              "<table class=\"simpletable\">\n",
              "<tr>\n",
              "      <td></td>         <th>coef</th>     <th>std err</th>      <th>t</th>      <th>P>|t|</th>  <th>[0.025</th>    <th>0.975]</th>  \n",
              "</tr>\n",
              "<tr>\n",
              "  <th>Intercept</th> <td>   58.5316</td> <td>    0.447</td> <td>  130.828</td> <td> 0.000</td> <td>   57.654</td> <td>   59.409</td>\n",
              "</tr>\n",
              "<tr>\n",
              "  <th>exercise</th>  <td>    0.9892</td> <td>    0.089</td> <td>   11.131</td> <td> 0.000</td> <td>    0.815</td> <td>    1.163</td>\n",
              "</tr>\n",
              "<tr>\n",
              "  <th>hours</th>     <td>    1.9162</td> <td>    0.031</td> <td>   61.575</td> <td> 0.000</td> <td>    1.855</td> <td>    1.977</td>\n",
              "</tr>\n",
              "</table>\n",
              "<table class=\"simpletable\">\n",
              "<tr>\n",
              "  <th>Omnibus:</th>       <td>318.721</td> <th>  Durbin-Watson:     </th> <td>   2.048</td>\n",
              "</tr>\n",
              "<tr>\n",
              "  <th>Prob(Omnibus):</th> <td> 0.000</td>  <th>  Jarque-Bera (JB):  </th> <td>2158.000</td>\n",
              "</tr>\n",
              "<tr>\n",
              "  <th>Skew:</th>          <td>-0.564</td>  <th>  Prob(JB):          </th> <td>    0.00</td>\n",
              "</tr>\n",
              "<tr>\n",
              "  <th>Kurtosis:</th>      <td> 7.962</td>  <th>  Cond. No.          </th> <td>    43.2</td>\n",
              "</tr>\n",
              "</table><br/><br/>Warnings:<br/>[1] Standard Errors assume that the covariance matrix of the errors is correctly specified."
            ],
            "text/plain": [
              "<class 'statsmodels.iolib.summary.Summary'>\n",
              "\"\"\"\n",
              "                            OLS Regression Results                            \n",
              "==============================================================================\n",
              "Dep. Variable:                  grade   R-squared:                       0.664\n",
              "Model:                            OLS   Adj. R-squared:                  0.664\n",
              "Method:                 Least Squares   F-statistic:                     1973.\n",
              "Date:                Wed, 28 Oct 2020   Prob (F-statistic):               0.00\n",
              "Time:                        22:32:01   Log-Likelihood:                -6300.8\n",
              "No. Observations:                2000   AIC:                         1.261e+04\n",
              "Df Residuals:                    1997   BIC:                         1.262e+04\n",
              "Df Model:                           2                                         \n",
              "Covariance Type:            nonrobust                                         \n",
              "==============================================================================\n",
              "                 coef    std err          t      P>|t|      [0.025      0.975]\n",
              "------------------------------------------------------------------------------\n",
              "Intercept     58.5316      0.447    130.828      0.000      57.654      59.409\n",
              "exercise       0.9892      0.089     11.131      0.000       0.815       1.163\n",
              "hours          1.9162      0.031     61.575      0.000       1.855       1.977\n",
              "==============================================================================\n",
              "Omnibus:                      318.721   Durbin-Watson:                   2.048\n",
              "Prob(Omnibus):                  0.000   Jarque-Bera (JB):             2158.000\n",
              "Skew:                          -0.564   Prob(JB):                         0.00\n",
              "Kurtosis:                       7.962   Cond. No.                         43.2\n",
              "==============================================================================\n",
              "\n",
              "Warnings:\n",
              "[1] Standard Errors assume that the covariance matrix of the errors is correctly specified.\n",
              "\"\"\""
            ]
          },
          "metadata": {
            "tags": []
          },
          "execution_count": 65
        }
      ]
    },
    {
      "cell_type": "markdown",
      "metadata": {
        "id": "ojncXT-NgsyM"
      },
      "source": [
        "**Your Turn**\n",
        "Create a new column where you convert gender to numeric values, like\n",
        "1 for female and 0 for male. Can you now add gender to your regression?\n",
        "Does this improve your R-squared?"
      ]
    },
    {
      "cell_type": "code",
      "metadata": {
        "id": "8vVfN9P-8Syg",
        "colab": {
          "base_uri": "https://localhost:8080/",
          "height": 80
        },
        "outputId": "2741ede3-45b9-4abb-f3d5-fc18cc9045fd"
      },
      "source": [
        "import pandas as pd\n",
        "import statsmodels.formula.api as sm\n",
        "Location = \"/content/drive/My Drive/Colab Notebooks/datasets/gradedata.csv\"\n",
        "\n",
        "df = pd.read_csv(Location)\n",
        "\n",
        "result = sm.ols(formula='grade ~ age + exercise + hours', data=df).fit()\n",
        "first = result.rsquared\n",
        "def gendertonum(x):\n",
        "  if x=='male':\n",
        "    return 0\n",
        "  if x=='female':\n",
        "    return 1\n",
        "df['GenderNumeric'] = df['gender'].apply(gendertonum)\n",
        "\n",
        "second = sm.ols(formula='grade ~ age + exercise + hours + GenderNumeric',data = df).fit()\n",
        "second = second.rsquared\n",
        "\n",
        "\n",
        "resultsdf = pd.DataFrame(data=zip([first],[second]), columns=['First','Second'])\n",
        "resultsdf\n",
        "\n",
        "#Muy poco pero sí se mejora."
      ],
      "execution_count": null,
      "outputs": [
        {
          "output_type": "execute_result",
          "data": {
            "text/html": [
              "<div>\n",
              "<style scoped>\n",
              "    .dataframe tbody tr th:only-of-type {\n",
              "        vertical-align: middle;\n",
              "    }\n",
              "\n",
              "    .dataframe tbody tr th {\n",
              "        vertical-align: top;\n",
              "    }\n",
              "\n",
              "    .dataframe thead th {\n",
              "        text-align: right;\n",
              "    }\n",
              "</style>\n",
              "<table border=\"1\" class=\"dataframe\">\n",
              "  <thead>\n",
              "    <tr style=\"text-align: right;\">\n",
              "      <th></th>\n",
              "      <th>First</th>\n",
              "      <th>Second</th>\n",
              "    </tr>\n",
              "  </thead>\n",
              "  <tbody>\n",
              "    <tr>\n",
              "      <th>0</th>\n",
              "      <td>0.664029</td>\n",
              "      <td>0.664558</td>\n",
              "    </tr>\n",
              "  </tbody>\n",
              "</table>\n",
              "</div>"
            ],
            "text/plain": [
              "      First    Second\n",
              "0  0.664029  0.664558"
            ]
          },
          "metadata": {
            "tags": []
          },
          "execution_count": 11
        }
      ]
    },
    {
      "cell_type": "markdown",
      "metadata": {
        "id": "4ScVjTLagykZ"
      },
      "source": [
        "# **Regresión sin intercepto**"
      ]
    },
    {
      "cell_type": "code",
      "metadata": {
        "id": "Z5Ez8dpjg1jT",
        "colab": {
          "base_uri": "https://localhost:8080/",
          "height": 465
        },
        "outputId": "480e8f7f-53c0-4985-8254-4676b92fc1cf"
      },
      "source": [
        "import pandas as pd\n",
        "Location = \"/content/drive/My Drive/Colab Notebooks/datasets/gradedata.csv\"\n",
        "df = pd.read_csv(Location)\n",
        "df.head()\n",
        "result = sm.ols(formula='grade ~ age + exercise + hours - 1', data=df).fit()\n",
        "result.summary()"
      ],
      "execution_count": null,
      "outputs": [
        {
          "output_type": "execute_result",
          "data": {
            "text/html": [
              "<table class=\"simpletable\">\n",
              "<caption>OLS Regression Results</caption>\n",
              "<tr>\n",
              "  <th>Dep. Variable:</th>          <td>grade</td>      <th>  R-squared (uncentered):</th>      <td>   0.991</td> \n",
              "</tr>\n",
              "<tr>\n",
              "  <th>Model:</th>                   <td>OLS</td>       <th>  Adj. R-squared (uncentered):</th> <td>   0.991</td> \n",
              "</tr>\n",
              "<tr>\n",
              "  <th>Method:</th>             <td>Least Squares</td>  <th>  F-statistic:       </th>          <td>7.284e+04</td>\n",
              "</tr>\n",
              "<tr>\n",
              "  <th>Date:</th>             <td>Sat, 10 Oct 2020</td> <th>  Prob (F-statistic):</th>           <td>  0.00</td>  \n",
              "</tr>\n",
              "<tr>\n",
              "  <th>Time:</th>                 <td>17:17:56</td>     <th>  Log-Likelihood:    </th>          <td> -6974.3</td> \n",
              "</tr>\n",
              "<tr>\n",
              "  <th>No. Observations:</th>      <td>  2000</td>      <th>  AIC:               </th>          <td>1.395e+04</td>\n",
              "</tr>\n",
              "<tr>\n",
              "  <th>Df Residuals:</th>          <td>  1997</td>      <th>  BIC:               </th>          <td>1.397e+04</td>\n",
              "</tr>\n",
              "<tr>\n",
              "  <th>Df Model:</th>              <td>     3</td>      <th>                     </th>              <td> </td>    \n",
              "</tr>\n",
              "<tr>\n",
              "  <th>Covariance Type:</th>      <td>nonrobust</td>    <th>                     </th>              <td> </td>    \n",
              "</tr>\n",
              "</table>\n",
              "<table class=\"simpletable\">\n",
              "<tr>\n",
              "      <td></td>        <th>coef</th>     <th>std err</th>      <th>t</th>      <th>P>|t|</th>  <th>[0.025</th>    <th>0.975]</th>  \n",
              "</tr>\n",
              "<tr>\n",
              "  <th>age</th>      <td>    3.1129</td> <td>    0.035</td> <td>   88.030</td> <td> 0.000</td> <td>    3.044</td> <td>    3.182</td>\n",
              "</tr>\n",
              "<tr>\n",
              "  <th>exercise</th> <td>    1.7659</td> <td>    0.122</td> <td>   14.482</td> <td> 0.000</td> <td>    1.527</td> <td>    2.005</td>\n",
              "</tr>\n",
              "<tr>\n",
              "  <th>hours</th>    <td>    2.2860</td> <td>    0.042</td> <td>   54.486</td> <td> 0.000</td> <td>    2.204</td> <td>    2.368</td>\n",
              "</tr>\n",
              "</table>\n",
              "<table class=\"simpletable\">\n",
              "<tr>\n",
              "  <th>Omnibus:</th>       <td>131.221</td> <th>  Durbin-Watson:     </th> <td>   2.006</td>\n",
              "</tr>\n",
              "<tr>\n",
              "  <th>Prob(Omnibus):</th> <td> 0.000</td>  <th>  Jarque-Bera (JB):  </th> <td> 403.367</td>\n",
              "</tr>\n",
              "<tr>\n",
              "  <th>Skew:</th>          <td>-0.301</td>  <th>  Prob(JB):          </th> <td>2.57e-88</td>\n",
              "</tr>\n",
              "<tr>\n",
              "  <th>Kurtosis:</th>      <td> 5.116</td>  <th>  Cond. No.          </th> <td>    14.2</td>\n",
              "</tr>\n",
              "</table><br/><br/>Warnings:<br/>[1] Standard Errors assume that the covariance matrix of the errors is correctly specified."
            ],
            "text/plain": [
              "<class 'statsmodels.iolib.summary.Summary'>\n",
              "\"\"\"\n",
              "                                 OLS Regression Results                                \n",
              "=======================================================================================\n",
              "Dep. Variable:                  grade   R-squared (uncentered):                   0.991\n",
              "Model:                            OLS   Adj. R-squared (uncentered):              0.991\n",
              "Method:                 Least Squares   F-statistic:                          7.284e+04\n",
              "Date:                Sat, 10 Oct 2020   Prob (F-statistic):                        0.00\n",
              "Time:                        17:17:56   Log-Likelihood:                         -6974.3\n",
              "No. Observations:                2000   AIC:                                  1.395e+04\n",
              "Df Residuals:                    1997   BIC:                                  1.397e+04\n",
              "Df Model:                           3                                                  \n",
              "Covariance Type:            nonrobust                                                  \n",
              "==============================================================================\n",
              "                 coef    std err          t      P>|t|      [0.025      0.975]\n",
              "------------------------------------------------------------------------------\n",
              "age            3.1129      0.035     88.030      0.000       3.044       3.182\n",
              "exercise       1.7659      0.122     14.482      0.000       1.527       2.005\n",
              "hours          2.2860      0.042     54.486      0.000       2.204       2.368\n",
              "==============================================================================\n",
              "Omnibus:                      131.221   Durbin-Watson:                   2.006\n",
              "Prob(Omnibus):                  0.000   Jarque-Bera (JB):              403.367\n",
              "Skew:                          -0.301   Prob(JB):                     2.57e-88\n",
              "Kurtosis:                       5.116   Cond. No.                         14.2\n",
              "==============================================================================\n",
              "\n",
              "Warnings:\n",
              "[1] Standard Errors assume that the covariance matrix of the errors is correctly specified.\n",
              "\"\"\""
            ]
          },
          "metadata": {
            "tags": []
          },
          "execution_count": 37
        }
      ]
    },
    {
      "cell_type": "markdown",
      "metadata": {
        "id": "GKiZ-p6MhWvI"
      },
      "source": [
        "**Your Turn**\n",
        "Try running these simple regressions with no intercept: \n",
        "1. Tests for the\n",
        "relationship between just grade and age; \n",
        "2. Tests for the relationship\n",
        "between just grade and exercise; and \n",
        "3. Tests for the relationship between\n",
        "just grade and study.\n",
        "\n",
        "If you had to pick just one, which one do you like best?"
      ]
    },
    {
      "cell_type": "code",
      "metadata": {
        "id": "ETgQoRLqhbBl",
        "colab": {
          "base_uri": "https://localhost:8080/",
          "height": 111
        },
        "outputId": "af217010-571b-4a02-a2b9-c7a3546da738"
      },
      "source": [
        "import pandas as pd\n",
        "Location = \"/content/drive/My Drive/Colab Notebooks/datasets/gradedata.csv\"\n",
        "df = pd.read_csv(Location)\n",
        "\n",
        "result = sm.ols(formula='grade ~ age  - 1', data=df).fit()\n",
        "\n",
        "result2 = sm.ols(formula='grade ~ exercise -1',data = df).fit()\n",
        "\n",
        "result3 = sm.ols(formula='grade ~ hours - 1',data = df).fit()\n",
        "\n",
        "resultsdf = pd.DataFrame(data=zip([result.rsquared,result.params[0]],\n",
        "                                  [result2.rsquared,result.params[0]],\n",
        "                                  [result3.rsquared,result3.params[0]]),\n",
        "                         columns=['First','Second','Third'])\n",
        "resultsdf.index = ['R-squared','Coefficient']\n",
        "resultsdf\n",
        "\n",
        "#Yo me quedaría con el tercer modelo, esto es debido a que con el primer modelo se cae en 2\n",
        "#errores, el primero es el sobreajuste (no es recomendable tener R^2 muy altos para cuando se habla de\n",
        "#variables que no tienen nada que ver), y el segundo error es que está afirmando que existe una alta\n",
        "#correlación entre la edad y la calificación, donde a mayor edad, se tiene más calificación.\n",
        "import matplotlib.pyplot as plt \n",
        "plt.scatter(df['grade'],df['age'])\n",
        "#con la gráfica se comprueba que esto no es cierto.\n",
        "#y la razon por la que no se elije el segundo es porque tiene baja correlación\n",
        "#además de que no tiene sentido relacionar las horas de ejercicio con sus calificaciones.\n",
        "#Por otro lado, al momento de relacionar sus horas de estudio con sus calificaciones, esto tiene sentido\n",
        "#debido a que a mayor horas de estudio, mayor calificacion (el coeficiente es positivo).\n"
      ],
      "execution_count": null,
      "outputs": [
        {
          "output_type": "execute_result",
          "data": {
            "text/html": [
              "<div>\n",
              "<style scoped>\n",
              "    .dataframe tbody tr th:only-of-type {\n",
              "        vertical-align: middle;\n",
              "    }\n",
              "\n",
              "    .dataframe tbody tr th {\n",
              "        vertical-align: top;\n",
              "    }\n",
              "\n",
              "    .dataframe thead th {\n",
              "        text-align: right;\n",
              "    }\n",
              "</style>\n",
              "<table border=\"1\" class=\"dataframe\">\n",
              "  <thead>\n",
              "    <tr style=\"text-align: right;\">\n",
              "      <th></th>\n",
              "      <th>First</th>\n",
              "      <th>Second</th>\n",
              "      <th>Third</th>\n",
              "    </tr>\n",
              "  </thead>\n",
              "  <tbody>\n",
              "    <tr>\n",
              "      <th>R-squared</th>\n",
              "      <td>0.000057</td>\n",
              "      <td>0.819798</td>\n",
              "      <td>0.929443</td>\n",
              "    </tr>\n",
              "    <tr>\n",
              "      <th>Coefficient</th>\n",
              "      <td>83.278229</td>\n",
              "      <td>83.278229</td>\n",
              "      <td>6.840720</td>\n",
              "    </tr>\n",
              "  </tbody>\n",
              "</table>\n",
              "</div>"
            ],
            "text/plain": [
              "                 First     Second     Third\n",
              "R-squared     0.000057   0.819798  0.929443\n",
              "Coefficient  83.278229  83.278229  6.840720"
            ]
          },
          "metadata": {
            "tags": []
          },
          "execution_count": 10
        }
      ]
    },
    {
      "cell_type": "markdown",
      "metadata": {
        "id": "dC4tKszEhpY_"
      },
      "source": [
        "# **Tablas dinámicas** (*o Tablas crosstab*)"
      ]
    },
    {
      "cell_type": "code",
      "metadata": {
        "id": "15v-NuD-htl4",
        "colab": {
          "base_uri": "https://localhost:8080/",
          "height": 204
        },
        "outputId": "213954de-ee0f-439f-9167-ce9d7d5d164d"
      },
      "source": [
        "import pandas as pd\n",
        "Location = \"/content/drive/My Drive/Colab Notebooks/datasets/gradedata.csv\"\n",
        "df = pd.read_csv(Location)\n",
        "df.head()"
      ],
      "execution_count": null,
      "outputs": [
        {
          "output_type": "execute_result",
          "data": {
            "text/html": [
              "<div>\n",
              "<style scoped>\n",
              "    .dataframe tbody tr th:only-of-type {\n",
              "        vertical-align: middle;\n",
              "    }\n",
              "\n",
              "    .dataframe tbody tr th {\n",
              "        vertical-align: top;\n",
              "    }\n",
              "\n",
              "    .dataframe thead th {\n",
              "        text-align: right;\n",
              "    }\n",
              "</style>\n",
              "<table border=\"1\" class=\"dataframe\">\n",
              "  <thead>\n",
              "    <tr style=\"text-align: right;\">\n",
              "      <th></th>\n",
              "      <th>fname</th>\n",
              "      <th>lname</th>\n",
              "      <th>gender</th>\n",
              "      <th>age</th>\n",
              "      <th>exercise</th>\n",
              "      <th>hours</th>\n",
              "      <th>grade</th>\n",
              "      <th>address</th>\n",
              "    </tr>\n",
              "  </thead>\n",
              "  <tbody>\n",
              "    <tr>\n",
              "      <th>0</th>\n",
              "      <td>Marcia</td>\n",
              "      <td>Pugh</td>\n",
              "      <td>female</td>\n",
              "      <td>17</td>\n",
              "      <td>3</td>\n",
              "      <td>10</td>\n",
              "      <td>82.4</td>\n",
              "      <td>9253 Richardson Road, Matawan, NJ 07747</td>\n",
              "    </tr>\n",
              "    <tr>\n",
              "      <th>1</th>\n",
              "      <td>Kadeem</td>\n",
              "      <td>Morrison</td>\n",
              "      <td>male</td>\n",
              "      <td>18</td>\n",
              "      <td>4</td>\n",
              "      <td>4</td>\n",
              "      <td>78.2</td>\n",
              "      <td>33 Spring Dr., Taunton, MA 02780</td>\n",
              "    </tr>\n",
              "    <tr>\n",
              "      <th>2</th>\n",
              "      <td>Nash</td>\n",
              "      <td>Powell</td>\n",
              "      <td>male</td>\n",
              "      <td>18</td>\n",
              "      <td>5</td>\n",
              "      <td>9</td>\n",
              "      <td>79.3</td>\n",
              "      <td>41 Hill Avenue, Mentor, OH 44060</td>\n",
              "    </tr>\n",
              "    <tr>\n",
              "      <th>3</th>\n",
              "      <td>Noelani</td>\n",
              "      <td>Wagner</td>\n",
              "      <td>female</td>\n",
              "      <td>14</td>\n",
              "      <td>2</td>\n",
              "      <td>7</td>\n",
              "      <td>83.2</td>\n",
              "      <td>8839 Marshall St., Miami, FL 33125</td>\n",
              "    </tr>\n",
              "    <tr>\n",
              "      <th>4</th>\n",
              "      <td>Noelani</td>\n",
              "      <td>Cherry</td>\n",
              "      <td>female</td>\n",
              "      <td>18</td>\n",
              "      <td>4</td>\n",
              "      <td>15</td>\n",
              "      <td>87.4</td>\n",
              "      <td>8304 Charles Rd., Lewis Center, OH 43035</td>\n",
              "    </tr>\n",
              "  </tbody>\n",
              "</table>\n",
              "</div>"
            ],
            "text/plain": [
              "     fname     lname  ... grade                                   address\n",
              "0   Marcia      Pugh  ...  82.4   9253 Richardson Road, Matawan, NJ 07747\n",
              "1   Kadeem  Morrison  ...  78.2          33 Spring Dr., Taunton, MA 02780\n",
              "2     Nash    Powell  ...  79.3          41 Hill Avenue, Mentor, OH 44060\n",
              "3  Noelani    Wagner  ...  83.2        8839 Marshall St., Miami, FL 33125\n",
              "4  Noelani    Cherry  ...  87.4  8304 Charles Rd., Lewis Center, OH 43035\n",
              "\n",
              "[5 rows x 8 columns]"
            ]
          },
          "metadata": {
            "tags": []
          },
          "execution_count": 14
        }
      ]
    },
    {
      "cell_type": "code",
      "metadata": {
        "id": "-MgrZEx0h65B",
        "colab": {
          "base_uri": "https://localhost:8080/",
          "height": 142
        },
        "outputId": "7fdeb890-9419-4a03-9d33-2478d6e57db7"
      },
      "source": [
        "pd.pivot_table(df, index=['gender'])"
      ],
      "execution_count": null,
      "outputs": [
        {
          "output_type": "execute_result",
          "data": {
            "text/html": [
              "<div>\n",
              "<style scoped>\n",
              "    .dataframe tbody tr th:only-of-type {\n",
              "        vertical-align: middle;\n",
              "    }\n",
              "\n",
              "    .dataframe tbody tr th {\n",
              "        vertical-align: top;\n",
              "    }\n",
              "\n",
              "    .dataframe thead th {\n",
              "        text-align: right;\n",
              "    }\n",
              "</style>\n",
              "<table border=\"1\" class=\"dataframe\">\n",
              "  <thead>\n",
              "    <tr style=\"text-align: right;\">\n",
              "      <th></th>\n",
              "      <th>age</th>\n",
              "      <th>exercise</th>\n",
              "      <th>grade</th>\n",
              "      <th>hours</th>\n",
              "    </tr>\n",
              "    <tr>\n",
              "      <th>gender</th>\n",
              "      <th></th>\n",
              "      <th></th>\n",
              "      <th></th>\n",
              "      <th></th>\n",
              "    </tr>\n",
              "  </thead>\n",
              "  <tbody>\n",
              "    <tr>\n",
              "      <th>female</th>\n",
              "      <td>16.568</td>\n",
              "      <td>3.047</td>\n",
              "      <td>82.7173</td>\n",
              "      <td>10.932</td>\n",
              "    </tr>\n",
              "    <tr>\n",
              "      <th>male</th>\n",
              "      <td>16.589</td>\n",
              "      <td>2.954</td>\n",
              "      <td>82.3948</td>\n",
              "      <td>11.045</td>\n",
              "    </tr>\n",
              "  </tbody>\n",
              "</table>\n",
              "</div>"
            ],
            "text/plain": [
              "           age  exercise    grade   hours\n",
              "gender                                   \n",
              "female  16.568     3.047  82.7173  10.932\n",
              "male    16.589     2.954  82.3948  11.045"
            ]
          },
          "metadata": {
            "tags": []
          },
          "execution_count": 15
        }
      ]
    },
    {
      "cell_type": "code",
      "metadata": {
        "id": "3eysIRcXiKgB",
        "colab": {
          "base_uri": "https://localhost:8080/",
          "height": 142
        },
        "outputId": "d371890a-fc40-4b80-bc2e-5a2f9514c341"
      },
      "source": [
        "pd.pivot_table(df, values=['grade'], index=['gender'])"
      ],
      "execution_count": null,
      "outputs": [
        {
          "output_type": "execute_result",
          "data": {
            "text/html": [
              "<div>\n",
              "<style scoped>\n",
              "    .dataframe tbody tr th:only-of-type {\n",
              "        vertical-align: middle;\n",
              "    }\n",
              "\n",
              "    .dataframe tbody tr th {\n",
              "        vertical-align: top;\n",
              "    }\n",
              "\n",
              "    .dataframe thead th {\n",
              "        text-align: right;\n",
              "    }\n",
              "</style>\n",
              "<table border=\"1\" class=\"dataframe\">\n",
              "  <thead>\n",
              "    <tr style=\"text-align: right;\">\n",
              "      <th></th>\n",
              "      <th>grade</th>\n",
              "    </tr>\n",
              "    <tr>\n",
              "      <th>gender</th>\n",
              "      <th></th>\n",
              "    </tr>\n",
              "  </thead>\n",
              "  <tbody>\n",
              "    <tr>\n",
              "      <th>female</th>\n",
              "      <td>82.7173</td>\n",
              "    </tr>\n",
              "    <tr>\n",
              "      <th>male</th>\n",
              "      <td>82.3948</td>\n",
              "    </tr>\n",
              "  </tbody>\n",
              "</table>\n",
              "</div>"
            ],
            "text/plain": [
              "          grade\n",
              "gender         \n",
              "female  82.7173\n",
              "male    82.3948"
            ]
          },
          "metadata": {
            "tags": []
          },
          "execution_count": 44
        }
      ]
    },
    {
      "cell_type": "code",
      "metadata": {
        "id": "GLxgB8sMiW6i",
        "colab": {
          "base_uri": "https://localhost:8080/",
          "height": 142
        },
        "outputId": "db08fccb-07b5-4050-ea96-8c8e74d95f44"
      },
      "source": [
        "pd.pivot_table(df, values=['grade'], index=['gender'], aggfunc='min')"
      ],
      "execution_count": null,
      "outputs": [
        {
          "output_type": "execute_result",
          "data": {
            "text/html": [
              "<div>\n",
              "<style scoped>\n",
              "    .dataframe tbody tr th:only-of-type {\n",
              "        vertical-align: middle;\n",
              "    }\n",
              "\n",
              "    .dataframe tbody tr th {\n",
              "        vertical-align: top;\n",
              "    }\n",
              "\n",
              "    .dataframe thead th {\n",
              "        text-align: right;\n",
              "    }\n",
              "</style>\n",
              "<table border=\"1\" class=\"dataframe\">\n",
              "  <thead>\n",
              "    <tr style=\"text-align: right;\">\n",
              "      <th></th>\n",
              "      <th>grade</th>\n",
              "    </tr>\n",
              "    <tr>\n",
              "      <th>gender</th>\n",
              "      <th></th>\n",
              "    </tr>\n",
              "  </thead>\n",
              "  <tbody>\n",
              "    <tr>\n",
              "      <th>female</th>\n",
              "      <td>32.0</td>\n",
              "    </tr>\n",
              "    <tr>\n",
              "      <th>male</th>\n",
              "      <td>43.0</td>\n",
              "    </tr>\n",
              "  </tbody>\n",
              "</table>\n",
              "</div>"
            ],
            "text/plain": [
              "        grade\n",
              "gender       \n",
              "female   32.0\n",
              "male     43.0"
            ]
          },
          "metadata": {
            "tags": []
          },
          "execution_count": 45
        }
      ]
    },
    {
      "cell_type": "code",
      "metadata": {
        "id": "BZpC45E2irIf",
        "colab": {
          "base_uri": "https://localhost:8080/",
          "height": 452
        },
        "outputId": "25c39d1d-0cfb-4a9f-d86f-961af7729e7a"
      },
      "source": [
        "pd.pivot_table(df, index=['gender','age'], aggfunc='max', values=['hours'])"
      ],
      "execution_count": null,
      "outputs": [
        {
          "output_type": "execute_result",
          "data": {
            "text/html": [
              "<div>\n",
              "<style scoped>\n",
              "    .dataframe tbody tr th:only-of-type {\n",
              "        vertical-align: middle;\n",
              "    }\n",
              "\n",
              "    .dataframe tbody tr th {\n",
              "        vertical-align: top;\n",
              "    }\n",
              "\n",
              "    .dataframe thead th {\n",
              "        text-align: right;\n",
              "    }\n",
              "</style>\n",
              "<table border=\"1\" class=\"dataframe\">\n",
              "  <thead>\n",
              "    <tr style=\"text-align: right;\">\n",
              "      <th></th>\n",
              "      <th></th>\n",
              "      <th>hours</th>\n",
              "    </tr>\n",
              "    <tr>\n",
              "      <th>gender</th>\n",
              "      <th>age</th>\n",
              "      <th></th>\n",
              "    </tr>\n",
              "  </thead>\n",
              "  <tbody>\n",
              "    <tr>\n",
              "      <th rowspan=\"6\" valign=\"top\">female</th>\n",
              "      <th>14</th>\n",
              "      <td>20</td>\n",
              "    </tr>\n",
              "    <tr>\n",
              "      <th>15</th>\n",
              "      <td>20</td>\n",
              "    </tr>\n",
              "    <tr>\n",
              "      <th>16</th>\n",
              "      <td>19</td>\n",
              "    </tr>\n",
              "    <tr>\n",
              "      <th>17</th>\n",
              "      <td>20</td>\n",
              "    </tr>\n",
              "    <tr>\n",
              "      <th>18</th>\n",
              "      <td>20</td>\n",
              "    </tr>\n",
              "    <tr>\n",
              "      <th>19</th>\n",
              "      <td>20</td>\n",
              "    </tr>\n",
              "    <tr>\n",
              "      <th rowspan=\"6\" valign=\"top\">male</th>\n",
              "      <th>14</th>\n",
              "      <td>19</td>\n",
              "    </tr>\n",
              "    <tr>\n",
              "      <th>15</th>\n",
              "      <td>20</td>\n",
              "    </tr>\n",
              "    <tr>\n",
              "      <th>16</th>\n",
              "      <td>20</td>\n",
              "    </tr>\n",
              "    <tr>\n",
              "      <th>17</th>\n",
              "      <td>20</td>\n",
              "    </tr>\n",
              "    <tr>\n",
              "      <th>18</th>\n",
              "      <td>20</td>\n",
              "    </tr>\n",
              "    <tr>\n",
              "      <th>19</th>\n",
              "      <td>20</td>\n",
              "    </tr>\n",
              "  </tbody>\n",
              "</table>\n",
              "</div>"
            ],
            "text/plain": [
              "            hours\n",
              "gender age       \n",
              "female 14      20\n",
              "       15      20\n",
              "       16      19\n",
              "       17      20\n",
              "       18      20\n",
              "       19      20\n",
              "male   14      19\n",
              "       15      20\n",
              "       16      20\n",
              "       17      20\n",
              "       18      20\n",
              "       19      20"
            ]
          },
          "metadata": {
            "tags": []
          },
          "execution_count": 46
        }
      ]
    },
    {
      "cell_type": "code",
      "metadata": {
        "id": "p1rfw4Idi5MC",
        "colab": {
          "base_uri": "https://localhost:8080/",
          "height": 142
        },
        "outputId": "28d66246-0843-4870-ca97-ff130cf644f4"
      },
      "source": [
        "pd.pivot_table(df, index=['gender'], aggfunc='mean', values=['grade','hours'])"
      ],
      "execution_count": null,
      "outputs": [
        {
          "output_type": "execute_result",
          "data": {
            "text/html": [
              "<div>\n",
              "<style scoped>\n",
              "    .dataframe tbody tr th:only-of-type {\n",
              "        vertical-align: middle;\n",
              "    }\n",
              "\n",
              "    .dataframe tbody tr th {\n",
              "        vertical-align: top;\n",
              "    }\n",
              "\n",
              "    .dataframe thead th {\n",
              "        text-align: right;\n",
              "    }\n",
              "</style>\n",
              "<table border=\"1\" class=\"dataframe\">\n",
              "  <thead>\n",
              "    <tr style=\"text-align: right;\">\n",
              "      <th></th>\n",
              "      <th>grade</th>\n",
              "      <th>hours</th>\n",
              "    </tr>\n",
              "    <tr>\n",
              "      <th>gender</th>\n",
              "      <th></th>\n",
              "      <th></th>\n",
              "    </tr>\n",
              "  </thead>\n",
              "  <tbody>\n",
              "    <tr>\n",
              "      <th>female</th>\n",
              "      <td>82.7173</td>\n",
              "      <td>10.932</td>\n",
              "    </tr>\n",
              "    <tr>\n",
              "      <th>male</th>\n",
              "      <td>82.3948</td>\n",
              "      <td>11.045</td>\n",
              "    </tr>\n",
              "  </tbody>\n",
              "</table>\n",
              "</div>"
            ],
            "text/plain": [
              "          grade   hours\n",
              "gender                 \n",
              "female  82.7173  10.932\n",
              "male    82.3948  11.045"
            ]
          },
          "metadata": {
            "tags": []
          },
          "execution_count": 47
        }
      ]
    },
    {
      "cell_type": "code",
      "metadata": {
        "id": "-rzglAB9jKdO",
        "colab": {
          "base_uri": "https://localhost:8080/",
          "height": 142
        },
        "outputId": "2e51a738-f6a1-4b02-b78c-2bd496360d77"
      },
      "source": [
        "df2 = df.loc[df['age'] == 17]\n",
        "pd.pivot_table(df2, index=['gender'], aggfunc='mean', values=['grade','hours'])"
      ],
      "execution_count": null,
      "outputs": [
        {
          "output_type": "execute_result",
          "data": {
            "text/html": [
              "<div>\n",
              "<style scoped>\n",
              "    .dataframe tbody tr th:only-of-type {\n",
              "        vertical-align: middle;\n",
              "    }\n",
              "\n",
              "    .dataframe tbody tr th {\n",
              "        vertical-align: top;\n",
              "    }\n",
              "\n",
              "    .dataframe thead th {\n",
              "        text-align: right;\n",
              "    }\n",
              "</style>\n",
              "<table border=\"1\" class=\"dataframe\">\n",
              "  <thead>\n",
              "    <tr style=\"text-align: right;\">\n",
              "      <th></th>\n",
              "      <th>grade</th>\n",
              "      <th>hours</th>\n",
              "    </tr>\n",
              "    <tr>\n",
              "      <th>gender</th>\n",
              "      <th></th>\n",
              "      <th></th>\n",
              "    </tr>\n",
              "  </thead>\n",
              "  <tbody>\n",
              "    <tr>\n",
              "      <th>female</th>\n",
              "      <td>83.599435</td>\n",
              "      <td>10.943503</td>\n",
              "    </tr>\n",
              "    <tr>\n",
              "      <th>male</th>\n",
              "      <td>82.949721</td>\n",
              "      <td>11.268156</td>\n",
              "    </tr>\n",
              "  </tbody>\n",
              "</table>\n",
              "</div>"
            ],
            "text/plain": [
              "            grade      hours\n",
              "gender                      \n",
              "female  83.599435  10.943503\n",
              "male    82.949721  11.268156"
            ]
          },
          "metadata": {
            "tags": []
          },
          "execution_count": 48
        }
      ]
    },
    {
      "cell_type": "code",
      "metadata": {
        "id": "7GgGo-0Fjau3",
        "colab": {
          "base_uri": "https://localhost:8080/",
          "height": 173
        },
        "outputId": "e3283fc7-bcf9-4bc4-fd93-bb40591ee176"
      },
      "source": [
        "df2 = df.loc[df['age'] == 17]\n",
        "pd.pivot_table(df2, index=['gender'], aggfunc='mean', values=['grade','hours'], margins='True')"
      ],
      "execution_count": null,
      "outputs": [
        {
          "output_type": "execute_result",
          "data": {
            "text/html": [
              "<div>\n",
              "<style scoped>\n",
              "    .dataframe tbody tr th:only-of-type {\n",
              "        vertical-align: middle;\n",
              "    }\n",
              "\n",
              "    .dataframe tbody tr th {\n",
              "        vertical-align: top;\n",
              "    }\n",
              "\n",
              "    .dataframe thead th {\n",
              "        text-align: right;\n",
              "    }\n",
              "</style>\n",
              "<table border=\"1\" class=\"dataframe\">\n",
              "  <thead>\n",
              "    <tr style=\"text-align: right;\">\n",
              "      <th></th>\n",
              "      <th>grade</th>\n",
              "      <th>hours</th>\n",
              "    </tr>\n",
              "    <tr>\n",
              "      <th>gender</th>\n",
              "      <th></th>\n",
              "      <th></th>\n",
              "    </tr>\n",
              "  </thead>\n",
              "  <tbody>\n",
              "    <tr>\n",
              "      <th>female</th>\n",
              "      <td>83.599435</td>\n",
              "      <td>10.943503</td>\n",
              "    </tr>\n",
              "    <tr>\n",
              "      <th>male</th>\n",
              "      <td>82.949721</td>\n",
              "      <td>11.268156</td>\n",
              "    </tr>\n",
              "    <tr>\n",
              "      <th>All</th>\n",
              "      <td>83.272753</td>\n",
              "      <td>11.106742</td>\n",
              "    </tr>\n",
              "  </tbody>\n",
              "</table>\n",
              "</div>"
            ],
            "text/plain": [
              "            grade      hours\n",
              "gender                      \n",
              "female  83.599435  10.943503\n",
              "male    82.949721  11.268156\n",
              "All     83.272753  11.106742"
            ]
          },
          "metadata": {
            "tags": []
          },
          "execution_count": 17
        }
      ]
    },
    {
      "cell_type": "markdown",
      "metadata": {
        "id": "O9BYdICgjleV"
      },
      "source": [
        "**Your Turn**\n",
        "Can you create a pivot table showing the average grade by gender of\n",
        "people who had more than two hours of exercise?"
      ]
    },
    {
      "cell_type": "code",
      "metadata": {
        "id": "tWU_wMtFgWqh",
        "colab": {
          "base_uri": "https://localhost:8080/",
          "height": 142
        },
        "outputId": "8f765b0f-f552-45d9-fd5d-617fd7164d2b"
      },
      "source": [
        "import pandas as pd\n",
        "Location = \"/content/drive/My Drive/Colab Notebooks/datasets/gradedata.csv\"\n",
        "df = pd.read_csv(Location)\n",
        "df = df.loc[df['exercise']>2]\n",
        "pd.pivot_table(df,index = ['gender'], aggfunc='mean',values=['grade'])"
      ],
      "execution_count": null,
      "outputs": [
        {
          "output_type": "execute_result",
          "data": {
            "text/html": [
              "<div>\n",
              "<style scoped>\n",
              "    .dataframe tbody tr th:only-of-type {\n",
              "        vertical-align: middle;\n",
              "    }\n",
              "\n",
              "    .dataframe tbody tr th {\n",
              "        vertical-align: top;\n",
              "    }\n",
              "\n",
              "    .dataframe thead th {\n",
              "        text-align: right;\n",
              "    }\n",
              "</style>\n",
              "<table border=\"1\" class=\"dataframe\">\n",
              "  <thead>\n",
              "    <tr style=\"text-align: right;\">\n",
              "      <th></th>\n",
              "      <th>grade</th>\n",
              "    </tr>\n",
              "    <tr>\n",
              "      <th>gender</th>\n",
              "      <th></th>\n",
              "    </tr>\n",
              "  </thead>\n",
              "  <tbody>\n",
              "    <tr>\n",
              "      <th>female</th>\n",
              "      <td>83.730343</td>\n",
              "    </tr>\n",
              "    <tr>\n",
              "      <th>male</th>\n",
              "      <td>83.622542</td>\n",
              "    </tr>\n",
              "  </tbody>\n",
              "</table>\n",
              "</div>"
            ],
            "text/plain": [
              "            grade\n",
              "gender           \n",
              "female  83.730343\n",
              "male    83.622542"
            ]
          },
          "metadata": {
            "tags": []
          },
          "execution_count": 115
        }
      ]
    }
  ]
}